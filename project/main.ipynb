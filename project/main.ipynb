{
 "cells": [
  {
   "cell_type": "code",
   "execution_count": 183,
   "metadata": {},
   "outputs": [],
   "source": [
    "import sqlite3\n",
    "import pandas as pd\n",
    "from functions_sandbox import cleaner\n",
    "import seaborn as sns\n",
    "import matplotlib.pyplot as plt\n",
    "\n",
    "location = r\"D:\\IT_projects\\Turing_Colledge\\Modul2\\Sprint1\\project\\mental_health.sqlite\"\n",
    "con = sqlite3.connect(location)"
   ]
  },
  {
   "cell_type": "markdown",
   "metadata": {},
   "source": [
    "Table No. 1"
   ]
  },
  {
   "cell_type": "code",
   "execution_count": 162,
   "metadata": {},
   "outputs": [
    {
     "data": {
      "text/html": [
       "<div>\n",
       "<style scoped>\n",
       "    .dataframe tbody tr th:only-of-type {\n",
       "        vertical-align: middle;\n",
       "    }\n",
       "\n",
       "    .dataframe tbody tr th {\n",
       "        vertical-align: top;\n",
       "    }\n",
       "\n",
       "    .dataframe thead th {\n",
       "        text-align: right;\n",
       "    }\n",
       "</style>\n",
       "<table border=\"1\" class=\"dataframe\">\n",
       "  <thead>\n",
       "    <tr style=\"text-align: right;\">\n",
       "      <th></th>\n",
       "      <th>SurveyID</th>\n",
       "      <th>Description</th>\n",
       "    </tr>\n",
       "  </thead>\n",
       "  <tbody>\n",
       "    <tr>\n",
       "      <th>0</th>\n",
       "      <td>2014</td>\n",
       "      <td>mental health survey for 2014</td>\n",
       "    </tr>\n",
       "    <tr>\n",
       "      <th>1</th>\n",
       "      <td>2016</td>\n",
       "      <td>mental health survey for 2016</td>\n",
       "    </tr>\n",
       "    <tr>\n",
       "      <th>2</th>\n",
       "      <td>2017</td>\n",
       "      <td>mental health survey for 2017</td>\n",
       "    </tr>\n",
       "    <tr>\n",
       "      <th>3</th>\n",
       "      <td>2018</td>\n",
       "      <td>mental health survey for 2018</td>\n",
       "    </tr>\n",
       "    <tr>\n",
       "      <th>4</th>\n",
       "      <td>2019</td>\n",
       "      <td>mental health survey for 2019</td>\n",
       "    </tr>\n",
       "  </tbody>\n",
       "</table>\n",
       "</div>"
      ],
      "text/plain": [
       "   SurveyID                    Description\n",
       "0      2014  mental health survey for 2014\n",
       "1      2016  mental health survey for 2016\n",
       "2      2017  mental health survey for 2017\n",
       "3      2018  mental health survey for 2018\n",
       "4      2019  mental health survey for 2019"
      ]
     },
     "execution_count": 162,
     "metadata": {},
     "output_type": "execute_result"
    }
   ],
   "source": [
    "query1 = \"\"\"\n",
    "SELECT *\n",
    "FROM Survey;\n",
    "\"\"\"\n",
    "pd.read_sql_query(query1, con)"
   ]
  },
  {
   "cell_type": "markdown",
   "metadata": {},
   "source": [
    "Table No. 2"
   ]
  },
  {
   "cell_type": "code",
   "execution_count": 163,
   "metadata": {},
   "outputs": [
    {
     "data": {
      "text/html": [
       "<div>\n",
       "<style scoped>\n",
       "    .dataframe tbody tr th:only-of-type {\n",
       "        vertical-align: middle;\n",
       "    }\n",
       "\n",
       "    .dataframe tbody tr th {\n",
       "        vertical-align: top;\n",
       "    }\n",
       "\n",
       "    .dataframe thead th {\n",
       "        text-align: right;\n",
       "    }\n",
       "</style>\n",
       "<table border=\"1\" class=\"dataframe\">\n",
       "  <thead>\n",
       "    <tr style=\"text-align: right;\">\n",
       "      <th></th>\n",
       "      <th>questiontext</th>\n",
       "      <th>questionid</th>\n",
       "    </tr>\n",
       "  </thead>\n",
       "  <tbody>\n",
       "    <tr>\n",
       "      <th>0</th>\n",
       "      <td>What is your age?</td>\n",
       "      <td>1</td>\n",
       "    </tr>\n",
       "    <tr>\n",
       "      <th>1</th>\n",
       "      <td>What is your gender?</td>\n",
       "      <td>2</td>\n",
       "    </tr>\n",
       "    <tr>\n",
       "      <th>2</th>\n",
       "      <td>What country do you live in?</td>\n",
       "      <td>3</td>\n",
       "    </tr>\n",
       "    <tr>\n",
       "      <th>3</th>\n",
       "      <td>If you live in the United States, which state ...</td>\n",
       "      <td>4</td>\n",
       "    </tr>\n",
       "    <tr>\n",
       "      <th>4</th>\n",
       "      <td>Are you self-employed?</td>\n",
       "      <td>5</td>\n",
       "    </tr>\n",
       "    <tr>\n",
       "      <th>...</th>\n",
       "      <td>...</td>\n",
       "      <td>...</td>\n",
       "    </tr>\n",
       "    <tr>\n",
       "      <th>100</th>\n",
       "      <td>Do you think that team members/co-workers woul...</td>\n",
       "      <td>114</td>\n",
       "    </tr>\n",
       "    <tr>\n",
       "      <th>101</th>\n",
       "      <td>If yes, what condition(s) have you been diagno...</td>\n",
       "      <td>115</td>\n",
       "    </tr>\n",
       "    <tr>\n",
       "      <th>102</th>\n",
       "      <td>If maybe, what condition(s) do you believe you...</td>\n",
       "      <td>116</td>\n",
       "    </tr>\n",
       "    <tr>\n",
       "      <th>103</th>\n",
       "      <td>Which of the following best describes your wor...</td>\n",
       "      <td>117</td>\n",
       "    </tr>\n",
       "    <tr>\n",
       "      <th>104</th>\n",
       "      <td>Do you work remotely?</td>\n",
       "      <td>118</td>\n",
       "    </tr>\n",
       "  </tbody>\n",
       "</table>\n",
       "<p>105 rows × 2 columns</p>\n",
       "</div>"
      ],
      "text/plain": [
       "                                          questiontext  questionid\n",
       "0                                    What is your age?           1\n",
       "1                                 What is your gender?           2\n",
       "2                         What country do you live in?           3\n",
       "3    If you live in the United States, which state ...           4\n",
       "4                               Are you self-employed?           5\n",
       "..                                                 ...         ...\n",
       "100  Do you think that team members/co-workers woul...         114\n",
       "101  If yes, what condition(s) have you been diagno...         115\n",
       "102  If maybe, what condition(s) do you believe you...         116\n",
       "103  Which of the following best describes your wor...         117\n",
       "104                              Do you work remotely?         118\n",
       "\n",
       "[105 rows x 2 columns]"
      ]
     },
     "execution_count": 163,
     "metadata": {},
     "output_type": "execute_result"
    }
   ],
   "source": [
    "query2 = \"\"\"\n",
    "SELECT *\n",
    "FROM Question;\n",
    "\"\"\"\n",
    "pd.read_sql_query(query2, con)"
   ]
  },
  {
   "cell_type": "markdown",
   "metadata": {},
   "source": [
    "Table No. 3"
   ]
  },
  {
   "cell_type": "code",
   "execution_count": 164,
   "metadata": {},
   "outputs": [
    {
     "data": {
      "text/html": [
       "<div>\n",
       "<style scoped>\n",
       "    .dataframe tbody tr th:only-of-type {\n",
       "        vertical-align: middle;\n",
       "    }\n",
       "\n",
       "    .dataframe tbody tr th {\n",
       "        vertical-align: top;\n",
       "    }\n",
       "\n",
       "    .dataframe thead th {\n",
       "        text-align: right;\n",
       "    }\n",
       "</style>\n",
       "<table border=\"1\" class=\"dataframe\">\n",
       "  <thead>\n",
       "    <tr style=\"text-align: right;\">\n",
       "      <th></th>\n",
       "      <th>AnswerText</th>\n",
       "      <th>SurveyID</th>\n",
       "      <th>UserID</th>\n",
       "      <th>QuestionID</th>\n",
       "    </tr>\n",
       "  </thead>\n",
       "  <tbody>\n",
       "    <tr>\n",
       "      <th>0</th>\n",
       "      <td>37</td>\n",
       "      <td>2014</td>\n",
       "      <td>1</td>\n",
       "      <td>1</td>\n",
       "    </tr>\n",
       "    <tr>\n",
       "      <th>1</th>\n",
       "      <td>44</td>\n",
       "      <td>2014</td>\n",
       "      <td>2</td>\n",
       "      <td>1</td>\n",
       "    </tr>\n",
       "    <tr>\n",
       "      <th>2</th>\n",
       "      <td>32</td>\n",
       "      <td>2014</td>\n",
       "      <td>3</td>\n",
       "      <td>1</td>\n",
       "    </tr>\n",
       "    <tr>\n",
       "      <th>3</th>\n",
       "      <td>31</td>\n",
       "      <td>2014</td>\n",
       "      <td>4</td>\n",
       "      <td>1</td>\n",
       "    </tr>\n",
       "    <tr>\n",
       "      <th>4</th>\n",
       "      <td>31</td>\n",
       "      <td>2014</td>\n",
       "      <td>5</td>\n",
       "      <td>1</td>\n",
       "    </tr>\n",
       "    <tr>\n",
       "      <th>...</th>\n",
       "      <td>...</td>\n",
       "      <td>...</td>\n",
       "      <td>...</td>\n",
       "      <td>...</td>\n",
       "    </tr>\n",
       "    <tr>\n",
       "      <th>236893</th>\n",
       "      <td>Other</td>\n",
       "      <td>2016</td>\n",
       "      <td>2689</td>\n",
       "      <td>117</td>\n",
       "    </tr>\n",
       "    <tr>\n",
       "      <th>236894</th>\n",
       "      <td>Support</td>\n",
       "      <td>2016</td>\n",
       "      <td>2690</td>\n",
       "      <td>117</td>\n",
       "    </tr>\n",
       "    <tr>\n",
       "      <th>236895</th>\n",
       "      <td>Back-end Developer</td>\n",
       "      <td>2016</td>\n",
       "      <td>2691</td>\n",
       "      <td>117</td>\n",
       "    </tr>\n",
       "    <tr>\n",
       "      <th>236896</th>\n",
       "      <td>DevOps/SysAdmin</td>\n",
       "      <td>2016</td>\n",
       "      <td>2692</td>\n",
       "      <td>117</td>\n",
       "    </tr>\n",
       "    <tr>\n",
       "      <th>236897</th>\n",
       "      <td>Other</td>\n",
       "      <td>2016</td>\n",
       "      <td>2693</td>\n",
       "      <td>117</td>\n",
       "    </tr>\n",
       "  </tbody>\n",
       "</table>\n",
       "<p>236898 rows × 4 columns</p>\n",
       "</div>"
      ],
      "text/plain": [
       "                AnswerText  SurveyID  UserID  QuestionID\n",
       "0                       37      2014       1           1\n",
       "1                       44      2014       2           1\n",
       "2                       32      2014       3           1\n",
       "3                       31      2014       4           1\n",
       "4                       31      2014       5           1\n",
       "...                    ...       ...     ...         ...\n",
       "236893               Other      2016    2689         117\n",
       "236894             Support      2016    2690         117\n",
       "236895  Back-end Developer      2016    2691         117\n",
       "236896     DevOps/SysAdmin      2016    2692         117\n",
       "236897               Other      2016    2693         117\n",
       "\n",
       "[236898 rows x 4 columns]"
      ]
     },
     "execution_count": 164,
     "metadata": {},
     "output_type": "execute_result"
    }
   ],
   "source": [
    "query3 = \"\"\"\n",
    "SELECT *\n",
    "FROM Answer;\n",
    "\"\"\"\n",
    "pd.read_sql_query(query3, con)"
   ]
  },
  {
   "cell_type": "markdown",
   "metadata": {},
   "source": [
    "All tables joined"
   ]
  },
  {
   "cell_type": "code",
   "execution_count": null,
   "metadata": {},
   "outputs": [],
   "source": [
    "query4 = \"\"\"\n",
    "SELECT Answer.AnswerText, Answer.SurveyID, Answer.UserID,\n",
    "        Answer.QuestionID, Question.questiontext QuestionText,\n",
    "        Survey.Description\n",
    "FROM Answer\n",
    "JOIN Question\n",
    "ON Answer.QuestionID = Question.QuestionID\n",
    "JOIN Survey\n",
    "ON Answer.SurveyID = Survey.SurveyID\n",
    "\"\"\"\n",
    "pd.read_sql_query(query4, con)"
   ]
  },
  {
   "cell_type": "markdown",
   "metadata": {},
   "source": [
    "## Data cleaning"
   ]
  },
  {
   "cell_type": "code",
   "execution_count": 155,
   "metadata": {},
   "outputs": [
    {
     "data": {
      "text/html": [
       "<div>\n",
       "<style scoped>\n",
       "    .dataframe tbody tr th:only-of-type {\n",
       "        vertical-align: middle;\n",
       "    }\n",
       "\n",
       "    .dataframe tbody tr th {\n",
       "        vertical-align: top;\n",
       "    }\n",
       "\n",
       "    .dataframe thead th {\n",
       "        text-align: right;\n",
       "    }\n",
       "</style>\n",
       "<table border=\"1\" class=\"dataframe\">\n",
       "  <thead>\n",
       "    <tr style=\"text-align: right;\">\n",
       "      <th></th>\n",
       "      <th>answertext</th>\n",
       "      <th>surveyid</th>\n",
       "      <th>userid</th>\n",
       "      <th>questionid</th>\n",
       "      <th>questiontext</th>\n",
       "      <th>description</th>\n",
       "    </tr>\n",
       "  </thead>\n",
       "  <tbody>\n",
       "    <tr>\n",
       "      <th>0</th>\n",
       "      <td>37</td>\n",
       "      <td>2014</td>\n",
       "      <td>1</td>\n",
       "      <td>1</td>\n",
       "      <td>What is your age?</td>\n",
       "      <td>mental health survey for 2014</td>\n",
       "    </tr>\n",
       "    <tr>\n",
       "      <th>1</th>\n",
       "      <td>44</td>\n",
       "      <td>2014</td>\n",
       "      <td>2</td>\n",
       "      <td>1</td>\n",
       "      <td>What is your age?</td>\n",
       "      <td>mental health survey for 2014</td>\n",
       "    </tr>\n",
       "    <tr>\n",
       "      <th>2</th>\n",
       "      <td>32</td>\n",
       "      <td>2014</td>\n",
       "      <td>3</td>\n",
       "      <td>1</td>\n",
       "      <td>What is your age?</td>\n",
       "      <td>mental health survey for 2014</td>\n",
       "    </tr>\n",
       "    <tr>\n",
       "      <th>3</th>\n",
       "      <td>31</td>\n",
       "      <td>2014</td>\n",
       "      <td>4</td>\n",
       "      <td>1</td>\n",
       "      <td>What is your age?</td>\n",
       "      <td>mental health survey for 2014</td>\n",
       "    </tr>\n",
       "    <tr>\n",
       "      <th>4</th>\n",
       "      <td>31</td>\n",
       "      <td>2014</td>\n",
       "      <td>5</td>\n",
       "      <td>1</td>\n",
       "      <td>What is your age?</td>\n",
       "      <td>mental health survey for 2014</td>\n",
       "    </tr>\n",
       "    <tr>\n",
       "      <th>...</th>\n",
       "      <td>...</td>\n",
       "      <td>...</td>\n",
       "      <td>...</td>\n",
       "      <td>...</td>\n",
       "      <td>...</td>\n",
       "      <td>...</td>\n",
       "    </tr>\n",
       "    <tr>\n",
       "      <th>236893</th>\n",
       "      <td>Other</td>\n",
       "      <td>2016</td>\n",
       "      <td>2689</td>\n",
       "      <td>117</td>\n",
       "      <td>Which of the following best describes your wor...</td>\n",
       "      <td>mental health survey for 2016</td>\n",
       "    </tr>\n",
       "    <tr>\n",
       "      <th>236894</th>\n",
       "      <td>Support</td>\n",
       "      <td>2016</td>\n",
       "      <td>2690</td>\n",
       "      <td>117</td>\n",
       "      <td>Which of the following best describes your wor...</td>\n",
       "      <td>mental health survey for 2016</td>\n",
       "    </tr>\n",
       "    <tr>\n",
       "      <th>236895</th>\n",
       "      <td>Back-end Developer</td>\n",
       "      <td>2016</td>\n",
       "      <td>2691</td>\n",
       "      <td>117</td>\n",
       "      <td>Which of the following best describes your wor...</td>\n",
       "      <td>mental health survey for 2016</td>\n",
       "    </tr>\n",
       "    <tr>\n",
       "      <th>236896</th>\n",
       "      <td>DevOps/SysAdmin</td>\n",
       "      <td>2016</td>\n",
       "      <td>2692</td>\n",
       "      <td>117</td>\n",
       "      <td>Which of the following best describes your wor...</td>\n",
       "      <td>mental health survey for 2016</td>\n",
       "    </tr>\n",
       "    <tr>\n",
       "      <th>236897</th>\n",
       "      <td>Other</td>\n",
       "      <td>2016</td>\n",
       "      <td>2693</td>\n",
       "      <td>117</td>\n",
       "      <td>Which of the following best describes your wor...</td>\n",
       "      <td>mental health survey for 2016</td>\n",
       "    </tr>\n",
       "  </tbody>\n",
       "</table>\n",
       "<p>236898 rows × 6 columns</p>\n",
       "</div>"
      ],
      "text/plain": [
       "                answertext  surveyid  userid  questionid  \\\n",
       "0                       37      2014       1           1   \n",
       "1                       44      2014       2           1   \n",
       "2                       32      2014       3           1   \n",
       "3                       31      2014       4           1   \n",
       "4                       31      2014       5           1   \n",
       "...                    ...       ...     ...         ...   \n",
       "236893               Other      2016    2689         117   \n",
       "236894             Support      2016    2690         117   \n",
       "236895  Back-end Developer      2016    2691         117   \n",
       "236896     DevOps/SysAdmin      2016    2692         117   \n",
       "236897               Other      2016    2693         117   \n",
       "\n",
       "                                             questiontext  \\\n",
       "0                                       What is your age?   \n",
       "1                                       What is your age?   \n",
       "2                                       What is your age?   \n",
       "3                                       What is your age?   \n",
       "4                                       What is your age?   \n",
       "...                                                   ...   \n",
       "236893  Which of the following best describes your wor...   \n",
       "236894  Which of the following best describes your wor...   \n",
       "236895  Which of the following best describes your wor...   \n",
       "236896  Which of the following best describes your wor...   \n",
       "236897  Which of the following best describes your wor...   \n",
       "\n",
       "                          description  \n",
       "0       mental health survey for 2014  \n",
       "1       mental health survey for 2014  \n",
       "2       mental health survey for 2014  \n",
       "3       mental health survey for 2014  \n",
       "4       mental health survey for 2014  \n",
       "...                               ...  \n",
       "236893  mental health survey for 2016  \n",
       "236894  mental health survey for 2016  \n",
       "236895  mental health survey for 2016  \n",
       "236896  mental health survey for 2016  \n",
       "236897  mental health survey for 2016  \n",
       "\n",
       "[236898 rows x 6 columns]"
      ]
     },
     "execution_count": 155,
     "metadata": {},
     "output_type": "execute_result"
    }
   ],
   "source": [
    "joined_df = pd.read_sql_query(query4, con)\n",
    "joined_df = cleaner(joined_df, info=False)\n",
    "joined_df"
   ]
  },
  {
   "cell_type": "markdown",
   "metadata": {},
   "source": [
    "Check for the unique amount of numbers in questionid column."
   ]
  },
  {
   "cell_type": "code",
   "execution_count": null,
   "metadata": {},
   "outputs": [],
   "source": [
    "qid = len(joined_df[\"questionid\"].unique()) #105 uniques\n",
    "uid = len(joined_df[\"userid\"].unique()) #4218 uniques\n",
    "sid = len(joined_df[\"surveyid\"].unique()) #5 uniques"
   ]
  },
  {
   "cell_type": "markdown",
   "metadata": {},
   "source": [
    "After the given result 105, we must to check, which numbers  \n",
    "of questions are excluded or deleted from table."
   ]
  },
  {
   "cell_type": "code",
   "execution_count": null,
   "metadata": {},
   "outputs": [],
   "source": [
    "expected_numbers = list(range(1, 118))\n",
    "numbers = sorted(joined_df[\"questionid\"].unique())\n",
    "excluded_numbers = set(expected_numbers) - set(numbers)\n",
    "print(f\"Excluded numbers: {sorted(excluded_numbers)}\",\n",
    "      f\"\\nThere are {len(excluded_numbers)} excluded numbers\")"
   ]
  },
  {
   "cell_type": "markdown",
   "metadata": {},
   "source": [
    "With the simple calculation we find, that there are  \n",
    "13 excluded numbers of questionid column in a joined table."
   ]
  },
  {
   "cell_type": "markdown",
   "metadata": {},
   "source": [
    "## EDA (Exploratory Data Analysis)"
   ]
  },
  {
   "cell_type": "markdown",
   "metadata": {},
   "source": [
    "### Participants age analysis"
   ]
  },
  {
   "cell_type": "markdown",
   "metadata": {},
   "source": [
    "Before analysing age, check of participants number  \n",
    "has been performed"
   ]
  },
  {
   "cell_type": "code",
   "execution_count": 278,
   "metadata": {},
   "outputs": [
    {
     "data": {
      "image/png": "[encoded data removed]",
      "text/plain": [
       "<Figure size 800x600 with 1 Axes>"
      ]
     },
     "metadata": {},
     "output_type": "display_data"
    }
   ],
   "source": [
    "query = \"\"\"\n",
    "SELECT SurveyID Years, COUNT(DISTINCT(UserID)) Employees_No\n",
    "FROM Answer\n",
    "GROUP BY Years\n",
    "ORDER BY Years;\n",
    "\"\"\"\n",
    "employees = pd.read_sql_query(query, con)\n",
    "#SurveyID, Employees_No\n",
    "plt.figure(figsize=(8, 6))\n",
    "\n",
    "splot = sns.barplot(\n",
    "    data=employees, \n",
    "    x=\"Years\", \n",
    "    y=\"Employees_No\", \n",
    "    label=\"Number of employees\",\n",
    "    color=\"#74c476\",\n",
    "    width=0.8\n",
    "    )\n",
    "\n",
    "for container in splot.containers:\n",
    "    splot.bar_label(container)\n",
    "splot.set_yticks([])\n",
    "splot.set_ylabel(None)\n",
    "splot.set_frame_on(False)\n",
    "splot.set_title(\n",
    "    \"Participation of employees survey over the years\",\n",
    "    size=14,\n",
    "    fontweight=\"bold\",\n",
    "    ha=\"center\"\n",
    "    )\n",
    "\n",
    "plt.show()"
   ]
  },
  {
   "cell_type": "markdown",
   "metadata": {},
   "source": [
    "It can be seen, that over the years, participation  \n",
    "in surveys of employees tend to decreased starting with 2016."
   ]
  },
  {
   "cell_type": "markdown",
   "metadata": {},
   "source": [
    "Table with age, gender and years has been created  \n",
    "where gender answers had to be fixed due to  \n",
    "letter case sensitivity or unsatisfactory answer."
   ]
  },
  {
   "cell_type": "code",
   "execution_count": 305,
   "metadata": {},
   "outputs": [],
   "source": [
    "query = \"\"\"\n",
    "SELECT UserID, SurveyID Years,\n",
    "MAX(CASE WHEN QuestionID = 1 THEN AnswerText END) AS Age,\n",
    "MAX(CASE WHEN QuestionID = 2 THEN AnswerText END) AS Gender\n",
    "FROM Answer\n",
    "WHERE QuestionID IN (1, 2)\n",
    "GROUP BY UserID\n",
    "\"\"\"\n",
    "genders_age = pd.read_sql_query(query, con)\n",
    "\n",
    "genders_age[\"Gender\"] = genders_age[\"Gender\"].str.lower()\n",
    "genders_age[\"Gender\"] = genders_age[\"Gender\"].apply(lambda x: \"other\" if x not in (\"female\", \"male\") else x)\n",
    "genders_age = genders_age[genders_age[\"Gender\"] != \"other\"]\n",
    "genders_age[\"Age\"] = genders_age[\"Age\"].astype(int)"
   ]
  },
  {
   "cell_type": "markdown",
   "metadata": {},
   "source": [
    "To show a difference between genders over the years, a barplot  \n",
    "was created."
   ]
  },
  {
   "cell_type": "code",
   "execution_count": 306,
   "metadata": {},
   "outputs": [
    {
     "data": {
      "image/png": "[encoded data removed]",
      "text/plain": [
       "<Figure size 800x600 with 1 Axes>"
      ]
     },
     "metadata": {},
     "output_type": "display_data"
    }
   ],
   "source": [
    "gender = genders_age.pivot_table(index=\"Years\", columns=\"Gender\", aggfunc=\"size\")\n",
    "\n",
    "plt.figure(figsize=(8, 6))\n",
    "splot = sns.countplot(\n",
    "    data=genders_age,\n",
    "    x='Years',\n",
    "    hue=\"Gender\",\n",
    "    width=0.8\n",
    ")\n",
    "\n",
    "for container in splot.containers:\n",
    "    splot.bar_label(container)\n",
    "splot.set_yticks([])\n",
    "splot.set_ylabel(None)\n",
    "splot.set_frame_on(False)\n",
    "splot.set_title(\n",
    "    \"Gender imbalance in Tech industry\",\n",
    "    size=14,\n",
    "    fontweight=\"bold\",\n",
    "    ha=\"center\"\n",
    ")\n",
    "\n",
    "plt.show()"
   ]
  },
  {
   "cell_type": "markdown",
   "metadata": {},
   "source": [
    "From the barplot a clear male trend in Tech industry  \n",
    "could be seen. In each year at least half more males works in this area.  \n",
    "However, huge split between male and female counts gets shorter starting  \n",
    "with year 2017."
   ]
  },
  {
   "cell_type": "markdown",
   "metadata": {},
   "source": [
    "In table, anomalies for age values was checked and found  \n",
    "some 0s, negative numbers, etc. All anomalies were filtered out  \n",
    "and 18-100 age was left.  \n",
    "Age was grouped to 7 groups: 10s, 20s, 30s... etc."
   ]
  },
  {
   "cell_type": "code",
   "execution_count": 385,
   "metadata": {},
   "outputs": [
    {
     "name": "stdout",
     "output_type": "stream",
     "text": [
      "      UserID  Years  Age  Gender Age_group\n",
      "129      130   2014   19    male       10s\n",
      "3514    3515   2018   19  female       10s\n",
      "75        76   2014   19    male       10s\n",
      "3481    3482   2018   19    male       10s\n",
      "4083    4084   2019   19  female       10s\n",
      "...      ...    ...  ...     ...       ...\n",
      "2160    2161   2016   63    male       60s\n",
      "560      561   2014   65    male       60s\n",
      "2377    2378   2016   74  female       70s\n",
      "2481    2482   2016   70    male       70s\n",
      "1182    1183   2014   72  female       70s\n",
      "\n",
      "[4050 rows x 5 columns]\n",
      "Overall mean age: 33\n"
     ]
    }
   ],
   "source": [
    "age_anomalies = genders_age[(genders_age[\"Age\"] > 80) | (genders_age[\"Age\"] < 18)]\n",
    "age_filtered = genders_age.loc[(genders_age[\"Age\"] > 18) & (genders_age[\"Age\"] < 100)].copy()\n",
    "# age_filtered\n",
    "age_filtered.loc[:, \"Age_group\"] = 0\n",
    "def agegroup(age):\n",
    "    if 18 <= age < 20:\n",
    "        return \"10s\"\n",
    "    elif 20 <= age < 30:\n",
    "        return \"20s\"\n",
    "    elif 30 <= age < 40:\n",
    "        return \"30s\"\n",
    "    elif 40 <= age < 50:\n",
    "        return \"40s\"\n",
    "    elif 50 <= age < 60:\n",
    "        return \"50s\"\n",
    "    elif 60 <= age < 70:\n",
    "        return \"60s\"\n",
    "    elif 70 <= age < 80:\n",
    "        return \"70s\"\n",
    "    else:\n",
    "        return \"Unknown\"\n",
    "\n",
    "age_filtered.loc[:, \"Age_group\"] = age_filtered[\"Age\"].apply(agegroup)\n",
    "age_filtered = age_filtered.sort_values(by=\"Age_group\")\n",
    "print(age_filtered)\n",
    "print(f\"Overall mean age: {age_filtered['Age'].mean().astype(int)}\")"
   ]
  },
  {
   "cell_type": "markdown",
   "metadata": {},
   "source": [
    "To check which age groups were most and least active in  \n",
    "survey, a line plot has been created."
   ]
  },
  {
   "cell_type": "code",
   "execution_count": 380,
   "metadata": {},
   "outputs": [
    {
     "data": {
      "image/png": "[encoded data removed]",
      "text/plain": [
       "<Figure size 800x500 with 1 Axes>"
      ]
     },
     "metadata": {},
     "output_type": "display_data"
    }
   ],
   "source": [
    "grouped_age = age_filtered.groupby([\"Years\", \"Age_group\"]).size().reset_index(name=\"Count\").copy()\n",
    "\n",
    "sns.set_style(\"darkgrid\")\n",
    "plt.figure(figsize=(8, 5))\n",
    "\n",
    "splot = sns.lineplot(\n",
    "    data=grouped_age,\n",
    "    x=\"Years\",\n",
    "    y=\"Count\",\n",
    "    hue=\"Age_group\"\n",
    ")\n",
    "splot.set_xlabel(\"Years\", fontweight=\"bold\")\n",
    "splot.set_ylabel(\"Count of participans\", fontweight=\"bold\")\n",
    "splot.set_title(\n",
    "    \"Survey participans over the years by age group\", \n",
    "    size=14, fontweight=\"bold\", \n",
    "    ha=\"center\"\n",
    ")\n",
    "plt.tight_layout()"
   ]
  },
  {
   "cell_type": "markdown",
   "metadata": {},
   "source": [
    "From this plot we can see, that over all years 30s group dominated  \n",
    "following with 20s and 40s. It gives us a result that young to mid  \n",
    "aged people tend to participate more in surveys but overall tendency  \n",
    "shows lower interest each year."
   ]
  },
  {
   "cell_type": "markdown",
   "metadata": {},
   "source": [
    "A query was made with calculations to look a number of  \n",
    "countries that participated in survey."
   ]
  },
  {
   "cell_type": "code",
   "execution_count": 439,
   "metadata": {},
   "outputs": [
    {
     "name": "stdout",
     "output_type": "stream",
     "text": [
      "Countries count: 79\n"
     ]
    },
    {
     "data": {
      "text/html": [
       "<div>\n",
       "<style scoped>\n",
       "    .dataframe tbody tr th:only-of-type {\n",
       "        vertical-align: middle;\n",
       "    }\n",
       "\n",
       "    .dataframe tbody tr th {\n",
       "        vertical-align: top;\n",
       "    }\n",
       "\n",
       "    .dataframe thead th {\n",
       "        text-align: right;\n",
       "    }\n",
       "</style>\n",
       "<table border=\"1\" class=\"dataframe\">\n",
       "  <thead>\n",
       "    <tr style=\"text-align: right;\">\n",
       "      <th></th>\n",
       "      <th>UserID</th>\n",
       "      <th>Years</th>\n",
       "      <th>Country</th>\n",
       "    </tr>\n",
       "  </thead>\n",
       "  <tbody>\n",
       "    <tr>\n",
       "      <th>0</th>\n",
       "      <td>1</td>\n",
       "      <td>2014</td>\n",
       "      <td>United States</td>\n",
       "    </tr>\n",
       "    <tr>\n",
       "      <th>1</th>\n",
       "      <td>2</td>\n",
       "      <td>2014</td>\n",
       "      <td>United States</td>\n",
       "    </tr>\n",
       "    <tr>\n",
       "      <th>2</th>\n",
       "      <td>3</td>\n",
       "      <td>2014</td>\n",
       "      <td>Canada</td>\n",
       "    </tr>\n",
       "    <tr>\n",
       "      <th>3</th>\n",
       "      <td>4</td>\n",
       "      <td>2014</td>\n",
       "      <td>United Kingdom</td>\n",
       "    </tr>\n",
       "    <tr>\n",
       "      <th>4</th>\n",
       "      <td>5</td>\n",
       "      <td>2014</td>\n",
       "      <td>United States</td>\n",
       "    </tr>\n",
       "    <tr>\n",
       "      <th>...</th>\n",
       "      <td>...</td>\n",
       "      <td>...</td>\n",
       "      <td>...</td>\n",
       "    </tr>\n",
       "    <tr>\n",
       "      <th>4209</th>\n",
       "      <td>4210</td>\n",
       "      <td>2019</td>\n",
       "      <td>United States</td>\n",
       "    </tr>\n",
       "    <tr>\n",
       "      <th>4210</th>\n",
       "      <td>4211</td>\n",
       "      <td>2019</td>\n",
       "      <td>United States</td>\n",
       "    </tr>\n",
       "    <tr>\n",
       "      <th>4212</th>\n",
       "      <td>4213</td>\n",
       "      <td>2019</td>\n",
       "      <td>United States</td>\n",
       "    </tr>\n",
       "    <tr>\n",
       "      <th>4214</th>\n",
       "      <td>4215</td>\n",
       "      <td>2019</td>\n",
       "      <td>United States</td>\n",
       "    </tr>\n",
       "    <tr>\n",
       "      <th>4217</th>\n",
       "      <td>4218</td>\n",
       "      <td>2019</td>\n",
       "      <td>United States</td>\n",
       "    </tr>\n",
       "  </tbody>\n",
       "</table>\n",
       "<p>3519 rows × 3 columns</p>\n",
       "</div>"
      ],
      "text/plain": [
       "      UserID  Years         Country\n",
       "0          1   2014   United States\n",
       "1          2   2014   United States\n",
       "2          3   2014          Canada\n",
       "3          4   2014  United Kingdom\n",
       "4          5   2014   United States\n",
       "...      ...    ...             ...\n",
       "4209    4210   2019   United States\n",
       "4210    4211   2019   United States\n",
       "4212    4213   2019   United States\n",
       "4214    4215   2019   United States\n",
       "4217    4218   2019   United States\n",
       "\n",
       "[3519 rows x 3 columns]"
      ]
     },
     "execution_count": 439,
     "metadata": {},
     "output_type": "execute_result"
    }
   ],
   "source": [
    "query = \"\"\"\n",
    "SELECT UserID, SurveyID Years, AnswerText Country\n",
    "FROM Answer\n",
    "WHERE QuestionID = 3\n",
    "\"\"\"\n",
    "countries = pd.read_sql_query(query, con)\n",
    "countries[\"Country\"] = countries[\"Country\"].apply(lambda x: \"United States\" if x == \"United States of America\" else x)\n",
    "print(f\"Countries count: {len(countries['Country'].unique()) - 1}\")\n",
    "top5_countries = list(countries[\"Country\"].value_counts().iloc[:5].index)\n",
    "top5_df = countries[countries[\"Country\"].isin(top5_countries)]\n",
    "top5_df"
   ]
  },
  {
   "cell_type": "markdown",
   "metadata": {},
   "source": [
    "Survey was placed on 79 countries.  \n",
    "Top 5 countries were extracted (US, Canada, UK, Netherlands, Germany)  \n",
    "for further investigation."
   ]
  },
  {
   "cell_type": "markdown",
   "metadata": {},
   "source": [
    "To look how participation of 5 countries changed over the  \n",
    "years a countplot was made."
   ]
  },
  {
   "cell_type": "code",
   "execution_count": 440,
   "metadata": {},
   "outputs": [
    {
     "data": {
      "image/png": "[encoded data removed]",
      "text/plain": [
       "<Figure size 2000x600 with 1 Axes>"
      ]
     },
     "metadata": {},
     "output_type": "display_data"
    }
   ],
   "source": [
    "plt.figure(figsize=(20, 6))\n",
    "splot = sns.countplot(\n",
    "    data=top5_df,\n",
    "    x=\"Years\",\n",
    "    hue=\"Country\",\n",
    "    width=0.8\n",
    ")\n",
    "for container in splot.containers:\n",
    "    splot.bar_label(container)\n",
    "splot.set_yticks([])\n",
    "splot.set_ylabel(None)\n",
    "splot.set_frame_on(False)\n",
    "splot.set_title(\n",
    "    \"Top 5 most surveys answered countries by years\",\n",
    "    size=14,\n",
    "    fontweight=\"bold\",\n",
    "    ha=\"center\"\n",
    ")\n",
    "plt.tight_layout()\n",
    "#pasitikrinti šalių amžiaus vidurkį ir pasižiūrėti ar nekoreliuoja su surveys"
   ]
  },
  {
   "cell_type": "markdown",
   "metadata": {},
   "source": [
    "From this plot we can see, that US dominated over all the years.  \n",
    "It could be due to various reasons, but further investigation  \n",
    "is needed to explain the higher survey rate."
   ]
  },
  {
   "cell_type": "code",
   "execution_count": 696,
   "metadata": {},
   "outputs": [
    {
     "data": {
      "text/html": [
       "<div>\n",
       "<style scoped>\n",
       "    .dataframe tbody tr th:only-of-type {\n",
       "        vertical-align: middle;\n",
       "    }\n",
       "\n",
       "    .dataframe tbody tr th {\n",
       "        vertical-align: top;\n",
       "    }\n",
       "\n",
       "    .dataframe thead th {\n",
       "        text-align: right;\n",
       "    }\n",
       "</style>\n",
       "<table border=\"1\" class=\"dataframe\">\n",
       "  <thead>\n",
       "    <tr style=\"text-align: right;\">\n",
       "      <th></th>\n",
       "      <th>answertext</th>\n",
       "      <th>surveyid</th>\n",
       "      <th>userid</th>\n",
       "      <th>questionid</th>\n",
       "      <th>questiontext</th>\n",
       "      <th>description</th>\n",
       "    </tr>\n",
       "  </thead>\n",
       "  <tbody>\n",
       "    <tr>\n",
       "      <th>18900</th>\n",
       "      <td>No</td>\n",
       "      <td>2014</td>\n",
       "      <td>1</td>\n",
       "      <td>93</td>\n",
       "      <td>Do you work remotely (outside of an office) at...</td>\n",
       "      <td>mental health survey for 2014</td>\n",
       "    </tr>\n",
       "    <tr>\n",
       "      <th>18901</th>\n",
       "      <td>No</td>\n",
       "      <td>2014</td>\n",
       "      <td>2</td>\n",
       "      <td>93</td>\n",
       "      <td>Do you work remotely (outside of an office) at...</td>\n",
       "      <td>mental health survey for 2014</td>\n",
       "    </tr>\n",
       "    <tr>\n",
       "      <th>18902</th>\n",
       "      <td>No</td>\n",
       "      <td>2014</td>\n",
       "      <td>3</td>\n",
       "      <td>93</td>\n",
       "      <td>Do you work remotely (outside of an office) at...</td>\n",
       "      <td>mental health survey for 2014</td>\n",
       "    </tr>\n",
       "    <tr>\n",
       "      <th>18903</th>\n",
       "      <td>No</td>\n",
       "      <td>2014</td>\n",
       "      <td>4</td>\n",
       "      <td>93</td>\n",
       "      <td>Do you work remotely (outside of an office) at...</td>\n",
       "      <td>mental health survey for 2014</td>\n",
       "    </tr>\n",
       "    <tr>\n",
       "      <th>18904</th>\n",
       "      <td>Yes</td>\n",
       "      <td>2014</td>\n",
       "      <td>5</td>\n",
       "      <td>93</td>\n",
       "      <td>Do you work remotely (outside of an office) at...</td>\n",
       "      <td>mental health survey for 2014</td>\n",
       "    </tr>\n",
       "    <tr>\n",
       "      <th>...</th>\n",
       "      <td>...</td>\n",
       "      <td>...</td>\n",
       "      <td>...</td>\n",
       "      <td>...</td>\n",
       "      <td>...</td>\n",
       "      <td>...</td>\n",
       "    </tr>\n",
       "    <tr>\n",
       "      <th>20155</th>\n",
       "      <td>Yes</td>\n",
       "      <td>2014</td>\n",
       "      <td>1256</td>\n",
       "      <td>93</td>\n",
       "      <td>Do you work remotely (outside of an office) at...</td>\n",
       "      <td>mental health survey for 2014</td>\n",
       "    </tr>\n",
       "    <tr>\n",
       "      <th>20156</th>\n",
       "      <td>No</td>\n",
       "      <td>2014</td>\n",
       "      <td>1257</td>\n",
       "      <td>93</td>\n",
       "      <td>Do you work remotely (outside of an office) at...</td>\n",
       "      <td>mental health survey for 2014</td>\n",
       "    </tr>\n",
       "    <tr>\n",
       "      <th>20157</th>\n",
       "      <td>Yes</td>\n",
       "      <td>2014</td>\n",
       "      <td>1258</td>\n",
       "      <td>93</td>\n",
       "      <td>Do you work remotely (outside of an office) at...</td>\n",
       "      <td>mental health survey for 2014</td>\n",
       "    </tr>\n",
       "    <tr>\n",
       "      <th>20158</th>\n",
       "      <td>No</td>\n",
       "      <td>2014</td>\n",
       "      <td>1259</td>\n",
       "      <td>93</td>\n",
       "      <td>Do you work remotely (outside of an office) at...</td>\n",
       "      <td>mental health survey for 2014</td>\n",
       "    </tr>\n",
       "    <tr>\n",
       "      <th>20159</th>\n",
       "      <td>No</td>\n",
       "      <td>2014</td>\n",
       "      <td>1260</td>\n",
       "      <td>93</td>\n",
       "      <td>Do you work remotely (outside of an office) at...</td>\n",
       "      <td>mental health survey for 2014</td>\n",
       "    </tr>\n",
       "  </tbody>\n",
       "</table>\n",
       "<p>1260 rows × 6 columns</p>\n",
       "</div>"
      ],
      "text/plain": [
       "      answertext  surveyid  userid  questionid  \\\n",
       "18900         No      2014       1          93   \n",
       "18901         No      2014       2          93   \n",
       "18902         No      2014       3          93   \n",
       "18903         No      2014       4          93   \n",
       "18904        Yes      2014       5          93   \n",
       "...          ...       ...     ...         ...   \n",
       "20155        Yes      2014    1256          93   \n",
       "20156         No      2014    1257          93   \n",
       "20157        Yes      2014    1258          93   \n",
       "20158         No      2014    1259          93   \n",
       "20159         No      2014    1260          93   \n",
       "\n",
       "                                            questiontext  \\\n",
       "18900  Do you work remotely (outside of an office) at...   \n",
       "18901  Do you work remotely (outside of an office) at...   \n",
       "18902  Do you work remotely (outside of an office) at...   \n",
       "18903  Do you work remotely (outside of an office) at...   \n",
       "18904  Do you work remotely (outside of an office) at...   \n",
       "...                                                  ...   \n",
       "20155  Do you work remotely (outside of an office) at...   \n",
       "20156  Do you work remotely (outside of an office) at...   \n",
       "20157  Do you work remotely (outside of an office) at...   \n",
       "20158  Do you work remotely (outside of an office) at...   \n",
       "20159  Do you work remotely (outside of an office) at...   \n",
       "\n",
       "                         description  \n",
       "18900  mental health survey for 2014  \n",
       "18901  mental health survey for 2014  \n",
       "18902  mental health survey for 2014  \n",
       "18903  mental health survey for 2014  \n",
       "18904  mental health survey for 2014  \n",
       "...                              ...  \n",
       "20155  mental health survey for 2014  \n",
       "20156  mental health survey for 2014  \n",
       "20157  mental health survey for 2014  \n",
       "20158  mental health survey for 2014  \n",
       "20159  mental health survey for 2014  \n",
       "\n",
       "[1260 rows x 6 columns]"
      ]
     },
     "execution_count": 696,
     "metadata": {},
     "output_type": "execute_result"
    }
   ],
   "source": [
    "a = joined_df[joined_df[\"questiontext\"] == (\"Do you work remotely (outside of an office) at least 50% of the time?\")]\n",
    "# a[\"questionid\"].unique()\n",
    "a = joined_df[joined_df[\"questionid\"] == 93]\n",
    "a"
   ]
  },
  {
   "cell_type": "markdown",
   "metadata": {},
   "source": [
    "To answer the question of what percentage of people  \n",
    "sought treatment for mental health issues over the years  \n",
    "a special dataframe was made."
   ]
  },
  {
   "cell_type": "code",
   "execution_count": 523,
   "metadata": {},
   "outputs": [],
   "source": [
    "query = \"\"\"\n",
    "SELECT UserID, SurveyID Years, AnswerText Treatment\n",
    "FROM Answer\n",
    "WHERE QuestionID = 7\n",
    "\"\"\"\n",
    "treatment = pd.read_sql_query(query, con)\n",
    "treatment_grouped = treatment.pivot_table(index=\"Years\", columns=\"Treatment\", aggfunc=\"size\")\n",
    "treatment_grouped.rename(columns={\"0\":\"No\", \"1\":\"Yes\"}, inplace=True)\n",
    "treatment_grouped[\"Both\"] = treatment_grouped[\"No\"] + treatment_grouped[\"Yes\"]\n",
    "treatment_grouped[\"Seek_perc\"] = round((treatment_grouped[\"Yes\"]/(treatment_grouped[\"Both\"])) * 100, 2)"
   ]
  },
  {
   "cell_type": "markdown",
   "metadata": {},
   "source": [
    "To see view more clear, data was plotted."
   ]
  },
  {
   "cell_type": "code",
   "execution_count": 515,
   "metadata": {},
   "outputs": [
    {
     "data": {
      "image/png": "[encoded data removed]",
      "text/plain": [
       "<Figure size 800x600 with 2 Axes>"
      ]
     },
     "metadata": {},
     "output_type": "display_data"
    }
   ],
   "source": [
    "fig, ax1 = plt.subplots(figsize=(8, 6))\n",
    "sns.lineplot(\n",
    "    data=treatment_grouped,\n",
    "    x=\"Years\",\n",
    "    y=\"Seek_perc\",\n",
    "    marker=\"o\",\n",
    "    color=\"blue\",\n",
    "    label=\"Seeking treatment\",\n",
    "    ax=ax1\n",
    ")\n",
    "ax2 = ax1.twinx()\n",
    "sns.lineplot(\n",
    "    data=treatment_grouped,\n",
    "    x=\"Years\",\n",
    "    y=\"Both\",\n",
    "    marker=\"o\",\n",
    "    color=\"red\",\n",
    "    label=\"Number of participans\",\n",
    "    ax=ax2\n",
    ")\n",
    "ax1.set_ylabel(\"Seeking treatment, %\")\n",
    "ax2.set_ylabel(\"Participated, No.\")\n",
    "plt.title(\n",
    "    \"Percent of people seeking treatment vs overall participans\",\n",
    "    size=14,\n",
    "    fontweight=\"bold\",\n",
    "    ha=\"center\"\n",
    ")\n",
    "\n",
    "plt.show()"
   ]
  },
  {
   "cell_type": "markdown",
   "metadata": {},
   "source": [
    "Blue line indicates the percentage of people that are seeking  \n",
    "treatment for mental issues, while red line shows overall participans  \n",
    "number and everything is showed with years included.  \n",
    "We can observe that as the years go, people tend to seek treatment more  \n",
    "despite survey taking participans decreasing."
   ]
  },
  {
   "cell_type": "code",
   "execution_count": 610,
   "metadata": {},
   "outputs": [
    {
     "data": {
      "text/html": [
       "<div>\n",
       "<style scoped>\n",
       "    .dataframe tbody tr th:only-of-type {\n",
       "        vertical-align: middle;\n",
       "    }\n",
       "\n",
       "    .dataframe tbody tr th {\n",
       "        vertical-align: top;\n",
       "    }\n",
       "\n",
       "    .dataframe thead th {\n",
       "        text-align: right;\n",
       "    }\n",
       "</style>\n",
       "<table border=\"1\" class=\"dataframe\">\n",
       "  <thead>\n",
       "    <tr style=\"text-align: right;\">\n",
       "      <th>Gender</th>\n",
       "      <th>summed</th>\n",
       "      <th>female</th>\n",
       "      <th>male</th>\n",
       "    </tr>\n",
       "    <tr>\n",
       "      <th>Age_no</th>\n",
       "      <th></th>\n",
       "      <th></th>\n",
       "      <th></th>\n",
       "    </tr>\n",
       "  </thead>\n",
       "  <tbody>\n",
       "    <tr>\n",
       "      <th>10</th>\n",
       "      <td>18</td>\n",
       "      <td>5</td>\n",
       "      <td>13</td>\n",
       "    </tr>\n",
       "    <tr>\n",
       "      <th>20</th>\n",
       "      <td>1289</td>\n",
       "      <td>384</td>\n",
       "      <td>905</td>\n",
       "    </tr>\n",
       "    <tr>\n",
       "      <th>30</th>\n",
       "      <td>1874</td>\n",
       "      <td>422</td>\n",
       "      <td>1452</td>\n",
       "    </tr>\n",
       "    <tr>\n",
       "      <th>40</th>\n",
       "      <td>676</td>\n",
       "      <td>152</td>\n",
       "      <td>524</td>\n",
       "    </tr>\n",
       "    <tr>\n",
       "      <th>50</th>\n",
       "      <td>160</td>\n",
       "      <td>49</td>\n",
       "      <td>111</td>\n",
       "    </tr>\n",
       "    <tr>\n",
       "      <th>60</th>\n",
       "      <td>30</td>\n",
       "      <td>9</td>\n",
       "      <td>21</td>\n",
       "    </tr>\n",
       "    <tr>\n",
       "      <th>70</th>\n",
       "      <td>3</td>\n",
       "      <td>2</td>\n",
       "      <td>1</td>\n",
       "    </tr>\n",
       "  </tbody>\n",
       "</table>\n",
       "</div>"
      ],
      "text/plain": [
       "Gender  summed  female  male\n",
       "Age_no                      \n",
       "10          18       5    13\n",
       "20        1289     384   905\n",
       "30        1874     422  1452\n",
       "40         676     152   524\n",
       "50         160      49   111\n",
       "60          30       9    21\n",
       "70           3       2     1"
      ]
     },
     "execution_count": 610,
     "metadata": {},
     "output_type": "execute_result"
    }
   ],
   "source": [
    "age_treatment = pd.merge(treatment, age_filtered, on=\"UserID\", how=\"inner\")\n",
    "age_treatment.drop(columns=\"Years_y\", axis=1, inplace=True)\n",
    "age_treatment.rename(columns={\"Years_x\":\"Years\"}, inplace=True)\n",
    "# age_treatment = age_treatment[age_treatment[\"Treatment\"] == \"1\"].copy()\n",
    "age_treatment[\"Age_no\"] = age_treatment[\"Age_group\"].map(\n",
    "    {\"10s\":10, \"20s\":20, \"30s\": 30, \"40s\":40, \"50s\":50, \"60s\":60, \"70s\":70})\n",
    "a = age_treatment.groupby(\"Age_no\")[[\"Treatment\", \"Gender\"]].value_counts().unstack(fill_value=0)\n",
    "a[\"summed\"] = a[\"female\"] + a[\"male\"]\n",
    "a.groupby(\"Age_no\")[[\"summed\", \"female\", \"male\"]].sum() #unclear for a moment"
   ]
  },
  {
   "cell_type": "markdown",
   "metadata": {},
   "source": [
    "I wanted to look for what percentage of people seek for  \n",
    "a health issues treatment in each age group. For that  \n",
    "a pivot table and calculations were made."
   ]
  },
  {
   "cell_type": "code",
   "execution_count": 624,
   "metadata": {},
   "outputs": [
    {
     "data": {
      "text/html": [
       "<div>\n",
       "<style scoped>\n",
       "    .dataframe tbody tr th:only-of-type {\n",
       "        vertical-align: middle;\n",
       "    }\n",
       "\n",
       "    .dataframe tbody tr th {\n",
       "        vertical-align: top;\n",
       "    }\n",
       "\n",
       "    .dataframe thead th {\n",
       "        text-align: right;\n",
       "    }\n",
       "</style>\n",
       "<table border=\"1\" class=\"dataframe\">\n",
       "  <thead>\n",
       "    <tr style=\"text-align: right;\">\n",
       "      <th>Treatment</th>\n",
       "      <th>No</th>\n",
       "      <th>Yes</th>\n",
       "      <th>Both</th>\n",
       "      <th>Seek_perc</th>\n",
       "    </tr>\n",
       "    <tr>\n",
       "      <th>Age_group</th>\n",
       "      <th></th>\n",
       "      <th></th>\n",
       "      <th></th>\n",
       "      <th></th>\n",
       "    </tr>\n",
       "  </thead>\n",
       "  <tbody>\n",
       "    <tr>\n",
       "      <th>10s</th>\n",
       "      <td>12.0</td>\n",
       "      <td>6.0</td>\n",
       "      <td>18.0</td>\n",
       "      <td>33.33</td>\n",
       "    </tr>\n",
       "    <tr>\n",
       "      <th>20s</th>\n",
       "      <td>610.0</td>\n",
       "      <td>679.0</td>\n",
       "      <td>1289.0</td>\n",
       "      <td>52.68</td>\n",
       "    </tr>\n",
       "    <tr>\n",
       "      <th>30s</th>\n",
       "      <td>811.0</td>\n",
       "      <td>1063.0</td>\n",
       "      <td>1874.0</td>\n",
       "      <td>56.72</td>\n",
       "    </tr>\n",
       "    <tr>\n",
       "      <th>40s</th>\n",
       "      <td>260.0</td>\n",
       "      <td>416.0</td>\n",
       "      <td>676.0</td>\n",
       "      <td>61.54</td>\n",
       "    </tr>\n",
       "    <tr>\n",
       "      <th>50s</th>\n",
       "      <td>60.0</td>\n",
       "      <td>100.0</td>\n",
       "      <td>160.0</td>\n",
       "      <td>62.50</td>\n",
       "    </tr>\n",
       "    <tr>\n",
       "      <th>60s</th>\n",
       "      <td>7.0</td>\n",
       "      <td>23.0</td>\n",
       "      <td>30.0</td>\n",
       "      <td>76.67</td>\n",
       "    </tr>\n",
       "    <tr>\n",
       "      <th>70s</th>\n",
       "      <td>0.0</td>\n",
       "      <td>3.0</td>\n",
       "      <td>3.0</td>\n",
       "      <td>100.00</td>\n",
       "    </tr>\n",
       "  </tbody>\n",
       "</table>\n",
       "</div>"
      ],
      "text/plain": [
       "Treatment     No     Yes    Both  Seek_perc\n",
       "Age_group                                  \n",
       "10s         12.0     6.0    18.0      33.33\n",
       "20s        610.0   679.0  1289.0      52.68\n",
       "30s        811.0  1063.0  1874.0      56.72\n",
       "40s        260.0   416.0   676.0      61.54\n",
       "50s         60.0   100.0   160.0      62.50\n",
       "60s          7.0    23.0    30.0      76.67\n",
       "70s          0.0     3.0     3.0     100.00"
      ]
     },
     "execution_count": 624,
     "metadata": {},
     "output_type": "execute_result"
    }
   ],
   "source": [
    "age_seek = age_treatment.pivot_table(index=\"Age_group\", columns=\"Treatment\", aggfunc=\"size\")\n",
    "age_seek.rename(columns={\"0\":\"No\", \"1\":\"Yes\"}, inplace=True)\n",
    "age_seek.fillna(0, inplace=True)\n",
    "age_seek[\"Both\"] = age_seek[\"No\"] + age_seek[\"Yes\"]\n",
    "age_seek[\"Seek_perc\"] = round(age_seek[\"Yes\"] / age_seek[\"Both\"] * 100, 2)\n",
    "age_seek"
   ]
  },
  {
   "cell_type": "code",
   "execution_count": null,
   "metadata": {},
   "outputs": [],
   "source": [
    "plt.figure(figsize=(8, 6))\n",
    "\n",
    "splot = sns.barplot(\n",
    "    data=age_seek, \n",
    "    x=\"Age_group\", \n",
    "    y=\"Seek_perc\", \n",
    "    label=\"Treatment seek percentage\",\n",
    "    color=\"#74c476\",\n",
    "    width=0.8\n",
    "    )\n",
    "for container in splot.containers:\n",
    "    splot.bar_label(container)\n",
    "splot.set_yticks([])\n",
    "splot.set_ylabel(None)\n",
    "splot.set_frame_on(False)\n",
    "\n",
    "bplot = sns.lineplot(\n",
    "    data=age_seek, \n",
    "    x=\"Age_group\", \n",
    "    y=\"Both\",\n",
    "    ax=splot.twinx(),\n",
    "    color=\"orange\",\n",
    "    marker=\"o\",\n",
    "    label=\"Overall participants\"\n",
    ")\n",
    "bplot.set_ylabel(\"Overall participants\")\n",
    "bplot.grid(False)\n",
    "splot.set_title(\n",
    "    \"Percentage of people who sought health issues treatment by age group\",\n",
    "    size=14,\n",
    "    fontweight=\"bold\",\n",
    "    ha=\"center\"\n",
    "    )\n",
    "\n",
    "plt.show()"
   ]
  },
  {
   "cell_type": "markdown",
   "metadata": {},
   "source": [
    "It can be seen, that with older group follows higher treatment seek  \n",
    "for menthal health issues. This could be explained younger age people usualy are more active and busy with many works, projects and doesn't spent that much time for therapists. On the other side, older people tend to take more time for mental health issues treatment.  \n",
    "The bar jumps higher from 60s age group."
   ]
  },
  {
   "cell_type": "code",
   "execution_count": 683,
   "metadata": {},
   "outputs": [
    {
     "data": {
      "text/html": [
       "<div>\n",
       "<style scoped>\n",
       "    .dataframe tbody tr th:only-of-type {\n",
       "        vertical-align: middle;\n",
       "    }\n",
       "\n",
       "    .dataframe tbody tr th {\n",
       "        vertical-align: top;\n",
       "    }\n",
       "\n",
       "    .dataframe thead th {\n",
       "        text-align: right;\n",
       "    }\n",
       "</style>\n",
       "<table border=\"1\" class=\"dataframe\">\n",
       "  <thead>\n",
       "    <tr style=\"text-align: right;\">\n",
       "      <th>Treatment</th>\n",
       "      <th>Gender</th>\n",
       "      <th>No</th>\n",
       "      <th>Yes</th>\n",
       "      <th>Both</th>\n",
       "      <th>Seek_perc</th>\n",
       "    </tr>\n",
       "  </thead>\n",
       "  <tbody>\n",
       "    <tr>\n",
       "      <th>0</th>\n",
       "      <td>female</td>\n",
       "      <td>277</td>\n",
       "      <td>746</td>\n",
       "      <td>1023</td>\n",
       "      <td>72.92</td>\n",
       "    </tr>\n",
       "    <tr>\n",
       "      <th>1</th>\n",
       "      <td>male</td>\n",
       "      <td>1483</td>\n",
       "      <td>1544</td>\n",
       "      <td>3027</td>\n",
       "      <td>51.01</td>\n",
       "    </tr>\n",
       "  </tbody>\n",
       "</table>\n",
       "</div>"
      ],
      "text/plain": [
       "Treatment  Gender    No   Yes  Both  Seek_perc\n",
       "0          female   277   746  1023      72.92\n",
       "1            male  1483  1544  3027      51.01"
      ]
     },
     "execution_count": 683,
     "metadata": {},
     "output_type": "execute_result"
    }
   ],
   "source": [
    "seek_gender = age_treatment.pivot_table(index=\"Gender\", columns=[\"Treatment\"], aggfunc=\"size\")\n",
    "seek_gender.rename(columns={\"0\":\"No\", \"1\":\"Yes\"}, inplace=True)\n",
    "seek_gender[\"Both\"] = seek_gender[\"No\"] + seek_gender[\"Yes\"]\n",
    "seek_gender[\"Seek_perc\"] = round(seek_gender[\"Yes\"] / seek_gender[\"Both\"] * 100, 2)\n",
    "seek_gender.reset_index(inplace=True)\n",
    "seek_gender"
   ]
  },
  {
   "cell_type": "markdown",
   "metadata": {},
   "source": [
    "Because of gender unequal number of survey we can see  \n",
    "almost triple number of men (3027) participated in comparison to woman(1023).  \n",
    "To dig deeper in answer above, overall percentage of people by gender which sought health  \n",
    "issues treatment a barplot was used."
   ]
  },
  {
   "cell_type": "code",
   "execution_count": 686,
   "metadata": {},
   "outputs": [
    {
     "data": {
      "image/png": "[encoded data removed]",
      "text/plain": [
       "<Figure size 600x400 with 1 Axes>"
      ]
     },
     "metadata": {},
     "output_type": "display_data"
    }
   ],
   "source": [
    "plt.figure(figsize=(6, 4))\n",
    "splot = sns.barplot(\n",
    "    data=seek_gender,\n",
    "    x=\"Gender\",\n",
    "    y=\"Seek_perc\",\n",
    "    label=\"Percentage\",\n",
    "    width=0.8\n",
    ")\n",
    "for container in splot.containers:\n",
    "    splot.bar_label(container)\n",
    "splot.set_yticks([])\n",
    "splot.set_ylabel(None)\n",
    "splot.set_frame_on(False)\n",
    "plt.title(\n",
    "    \"Percentage of female/male that sought treatment\",\n",
    "    size=14,\n",
    "    fontweight=\"bold\",\n",
    "    ha=\"center\"\n",
    ")\n",
    "plt.tight_layout()\n",
    "plt.show()"
   ]
  },
  {
   "cell_type": "markdown",
   "metadata": {},
   "source": [
    "We can see, that despite the higher number of men participated  \n",
    "in survey, a higher percentage of female participates  \n",
    "answered that they sought treatment for mental health issues.  \n",
    "This could be explained that overall in principal woman are  \n",
    "more caring and concerned about their and others health.  \n",
    "Males should concern more."
   ]
  },
  {
   "cell_type": "markdown",
   "metadata": {},
   "source": [
    "I tried to look on how many participants in survey have  \n",
    "or haven't been diagnosed with mental issues."
   ]
  },
  {
   "cell_type": "code",
   "execution_count": 751,
   "metadata": {},
   "outputs": [
    {
     "name": "stdout",
     "output_type": "stream",
     "text": [
      "Participants no: 2958\n",
      "Participants with mental disorder: 1237\n",
      "Participants without mental disorder: 969\n"
     ]
    }
   ],
   "source": [
    "#33, 93\n",
    "query = \"\"\" \n",
    "SELECT UserID, AnswerText Mental_dis\n",
    "FROM Answer\n",
    "WHERE QuestionID = 33\n",
    "\"\"\"\n",
    "mental = pd.read_sql_query(query, con)\n",
    "print(f\"Participants no: {mental['Mental_dis'].value_counts().sum()}\")\n",
    "mental = mental[mental[\"Mental_dis\"].isin([\"Yes\", \"No\"])]\n",
    "print(f\"Participants with mental issues: {mental['Mental_dis'].value_counts().loc['Yes']}\")\n",
    "print(f\"Participants without mental issues: {mental['Mental_dis'].value_counts().loc['No']}\")"
   ]
  },
  {
   "cell_type": "markdown",
   "metadata": {},
   "source": [
    "Despite there were 2958 participants, some of them weren't sure about  \n",
    "the answer so only \"Yes\" and \"No\" was included in study. We have more  \n",
    "people with (1237) mental issues than without (969)."
   ]
  },
  {
   "cell_type": "markdown",
   "metadata": {},
   "source": [
    "Also, I looked at how many participants are self employed."
   ]
  },
  {
   "cell_type": "code",
   "execution_count": 766,
   "metadata": {},
   "outputs": [
    {
     "name": "stdout",
     "output_type": "stream",
     "text": [
      "Participants that work in companies: 3550\n",
      "Participants that are self employed: 650\n"
     ]
    }
   ],
   "source": [
    "query = \"\"\" \n",
    "SELECT UserID, AnswerText Self_employed\n",
    "FROM Answer\n",
    "WHERE QuestionID = 5\n",
    "\"\"\"\n",
    "selfemp = pd.read_sql_query(query, con)\n",
    "selfemp = selfemp[selfemp[\"Self_employed\"].isin([\"0\", \"1\"])]\n",
    "selfemp\n",
    "print(f\"Participants that work in companies: {selfemp['Self_employed'].value_counts().loc['0']}\")\n",
    "print(f\"Participants that are self employed: {selfemp['Self_employed'].value_counts().loc['1']}\")"
   ]
  },
  {
   "cell_type": "markdown",
   "metadata": {},
   "source": [
    "We can see that there are significantly more participants that  \n",
    "work in companies than are self employed."
   ]
  },
  {
   "cell_type": "markdown",
   "metadata": {},
   "source": [
    "Finally I would like to see if there is a correlation between  \n",
    "self employed participants and mental health issues. To do that,  \n",
    "I need to merge two tables: mental and selfemp and clean it properly.  \n",
    "0's represents \"No\" and 1's represents \"Yes\"."
   ]
  },
  {
   "cell_type": "code",
   "execution_count": 793,
   "metadata": {},
   "outputs": [
    {
     "name": "stdout",
     "output_type": "stream",
     "text": [
      "Self_employed\n",
      "0    1024\n",
      "1     213\n",
      "Name: count, dtype: int64\n",
      "Company employed with no mental issues: 813\n",
      "Self employed with no mental issues: 156\n"
     ]
    }
   ],
   "source": [
    "mental_remote = pd.merge(mental, selfemp, on=\"UserID\", how=\"inner\")\n",
    "mental_remote[\"Mental_dis\"] = mental_remote[\"Mental_dis\"].replace({\"No\":0, \"Yes\":1})\n",
    "mental_remote[\"Self_employed\"] = mental_remote[\"Self_employed\"].astype(int)\n",
    "# mental_remote\n",
    "ment_no = mental_remote[mental_remote[\"Mental_dis\"] == 0]\n",
    "ment_yes = mental_remote[mental_remote[\"Mental_dis\"] == 1]\n",
    "\n",
    "noself_nodis = ment_no[\"Self_employed\"].value_counts()[0]\n",
    "self_nodis = ment_no[\"Self_employed\"].value_counts()[1]\n",
    "noself_yesdis = ment_yes[\"Self_employed\"].value_counts()[0]\n",
    "self_yesdis = ment_yes[\"Self_employed\"].value_counts()[1]\n",
    "\n",
    "print(f\"Company employed with no mental issues: {noself_nodis}\")\n",
    "print(f\"Self employed with no mental issues: {self_nodis}\")\n",
    "print(f\"Company employed with mental issues: {noself_yesdis}\")\n",
    "print(f\"Self employed with mental issues: {self_yesdis}\")"
   ]
  },
  {
   "cell_type": "code",
   "execution_count": 782,
   "metadata": {},
   "outputs": [
    {
     "data": {
      "image/png": "[encoded data removed]",
      "text/plain": [
       "<Figure size 800x600 with 2 Axes>"
      ]
     },
     "metadata": {},
     "output_type": "display_data"
    }
   ],
   "source": []
  }
 ],
 "metadata": {
  "kernelspec": {
   "display_name": "Python 3",
   "language": "python",
   "name": "python3"
  },
  "language_info": {
   "codemirror_mode": {
    "name": "ipython",
    "version": 3
   },
   "file_extension": ".py",
   "mimetype": "text/x-python",
   "name": "python",
   "nbconvert_exporter": "python",
   "pygments_lexer": "ipython3",
   "version": "3.11.4"
  }
 },
 "nbformat": 4,
 "nbformat_minor": 2
}
