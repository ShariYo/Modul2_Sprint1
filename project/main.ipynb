{
 "cells": [
  {
   "cell_type": "markdown",
   "metadata": {},
   "source": [
    "# Project: Mental Health in the Tech Industry"
   ]
  },
  {
   "cell_type": "code",
   "execution_count": 811,
   "metadata": {},
   "outputs": [],
   "source": [
    "import sqlite3\n",
    "import pandas as pd\n",
    "from functions_sandbox import cleaner\n",
    "import seaborn as sns\n",
    "import matplotlib.pyplot as plt\n",
    "import numpy as np\n",
    "\n",
    "location = r\"D:\\IT_projects\\Turing_Colledge\\Modul2\\Sprint1\\project\\mental_health.sqlite\"\n",
    "con = sqlite3.connect(location)"
   ]
  },
  {
   "cell_type": "markdown",
   "metadata": {},
   "source": [
    "Table No. 1"
   ]
  },
  {
   "cell_type": "code",
   "execution_count": 815,
   "metadata": {},
   "outputs": [
    {
     "data": {
      "text/html": [
       "<div>\n",
       "<style scoped>\n",
       "    .dataframe tbody tr th:only-of-type {\n",
       "        vertical-align: middle;\n",
       "    }\n",
       "\n",
       "    .dataframe tbody tr th {\n",
       "        vertical-align: top;\n",
       "    }\n",
       "\n",
       "    .dataframe thead th {\n",
       "        text-align: right;\n",
       "    }\n",
       "</style>\n",
       "<table border=\"1\" class=\"dataframe\">\n",
       "  <thead>\n",
       "    <tr style=\"text-align: right;\">\n",
       "      <th></th>\n",
       "      <th>SurveyID</th>\n",
       "      <th>Description</th>\n",
       "    </tr>\n",
       "  </thead>\n",
       "  <tbody>\n",
       "    <tr>\n",
       "      <th>0</th>\n",
       "      <td>2014</td>\n",
       "      <td>mental health survey for 2014</td>\n",
       "    </tr>\n",
       "    <tr>\n",
       "      <th>1</th>\n",
       "      <td>2016</td>\n",
       "      <td>mental health survey for 2016</td>\n",
       "    </tr>\n",
       "    <tr>\n",
       "      <th>2</th>\n",
       "      <td>2017</td>\n",
       "      <td>mental health survey for 2017</td>\n",
       "    </tr>\n",
       "    <tr>\n",
       "      <th>3</th>\n",
       "      <td>2018</td>\n",
       "      <td>mental health survey for 2018</td>\n",
       "    </tr>\n",
       "    <tr>\n",
       "      <th>4</th>\n",
       "      <td>2019</td>\n",
       "      <td>mental health survey for 2019</td>\n",
       "    </tr>\n",
       "  </tbody>\n",
       "</table>\n",
       "</div>"
      ],
      "text/plain": [
       "   SurveyID                    Description\n",
       "0      2014  mental health survey for 2014\n",
       "1      2016  mental health survey for 2016\n",
       "2      2017  mental health survey for 2017\n",
       "3      2018  mental health survey for 2018\n",
       "4      2019  mental health survey for 2019"
      ]
     },
     "execution_count": 815,
     "metadata": {},
     "output_type": "execute_result"
    }
   ],
   "source": [
    "query1 = \"\"\"\n",
    "SELECT *\n",
    "FROM Survey;\n",
    "\"\"\"\n",
    "pd.read_sql_query(query1, con).head(5)"
   ]
  },
  {
   "cell_type": "markdown",
   "metadata": {},
   "source": [
    "Table No. 2"
   ]
  },
  {
   "cell_type": "code",
   "execution_count": 814,
   "metadata": {},
   "outputs": [
    {
     "data": {
      "text/html": [
       "<div>\n",
       "<style scoped>\n",
       "    .dataframe tbody tr th:only-of-type {\n",
       "        vertical-align: middle;\n",
       "    }\n",
       "\n",
       "    .dataframe tbody tr th {\n",
       "        vertical-align: top;\n",
       "    }\n",
       "\n",
       "    .dataframe thead th {\n",
       "        text-align: right;\n",
       "    }\n",
       "</style>\n",
       "<table border=\"1\" class=\"dataframe\">\n",
       "  <thead>\n",
       "    <tr style=\"text-align: right;\">\n",
       "      <th></th>\n",
       "      <th>questiontext</th>\n",
       "      <th>questionid</th>\n",
       "    </tr>\n",
       "  </thead>\n",
       "  <tbody>\n",
       "    <tr>\n",
       "      <th>0</th>\n",
       "      <td>What is your age?</td>\n",
       "      <td>1</td>\n",
       "    </tr>\n",
       "    <tr>\n",
       "      <th>1</th>\n",
       "      <td>What is your gender?</td>\n",
       "      <td>2</td>\n",
       "    </tr>\n",
       "    <tr>\n",
       "      <th>2</th>\n",
       "      <td>What country do you live in?</td>\n",
       "      <td>3</td>\n",
       "    </tr>\n",
       "    <tr>\n",
       "      <th>3</th>\n",
       "      <td>If you live in the United States, which state ...</td>\n",
       "      <td>4</td>\n",
       "    </tr>\n",
       "    <tr>\n",
       "      <th>4</th>\n",
       "      <td>Are you self-employed?</td>\n",
       "      <td>5</td>\n",
       "    </tr>\n",
       "  </tbody>\n",
       "</table>\n",
       "</div>"
      ],
      "text/plain": [
       "                                        questiontext  questionid\n",
       "0                                  What is your age?           1\n",
       "1                               What is your gender?           2\n",
       "2                       What country do you live in?           3\n",
       "3  If you live in the United States, which state ...           4\n",
       "4                             Are you self-employed?           5"
      ]
     },
     "execution_count": 814,
     "metadata": {},
     "output_type": "execute_result"
    }
   ],
   "source": [
    "query2 = \"\"\"\n",
    "SELECT *\n",
    "FROM Question;\n",
    "\"\"\"\n",
    "pd.read_sql_query(query2, con).head(5)"
   ]
  },
  {
   "cell_type": "markdown",
   "metadata": {},
   "source": [
    "Table No. 3"
   ]
  },
  {
   "cell_type": "code",
   "execution_count": 816,
   "metadata": {},
   "outputs": [
    {
     "data": {
      "text/html": [
       "<div>\n",
       "<style scoped>\n",
       "    .dataframe tbody tr th:only-of-type {\n",
       "        vertical-align: middle;\n",
       "    }\n",
       "\n",
       "    .dataframe tbody tr th {\n",
       "        vertical-align: top;\n",
       "    }\n",
       "\n",
       "    .dataframe thead th {\n",
       "        text-align: right;\n",
       "    }\n",
       "</style>\n",
       "<table border=\"1\" class=\"dataframe\">\n",
       "  <thead>\n",
       "    <tr style=\"text-align: right;\">\n",
       "      <th></th>\n",
       "      <th>AnswerText</th>\n",
       "      <th>SurveyID</th>\n",
       "      <th>UserID</th>\n",
       "      <th>QuestionID</th>\n",
       "    </tr>\n",
       "  </thead>\n",
       "  <tbody>\n",
       "    <tr>\n",
       "      <th>0</th>\n",
       "      <td>37</td>\n",
       "      <td>2014</td>\n",
       "      <td>1</td>\n",
       "      <td>1</td>\n",
       "    </tr>\n",
       "    <tr>\n",
       "      <th>1</th>\n",
       "      <td>44</td>\n",
       "      <td>2014</td>\n",
       "      <td>2</td>\n",
       "      <td>1</td>\n",
       "    </tr>\n",
       "    <tr>\n",
       "      <th>2</th>\n",
       "      <td>32</td>\n",
       "      <td>2014</td>\n",
       "      <td>3</td>\n",
       "      <td>1</td>\n",
       "    </tr>\n",
       "    <tr>\n",
       "      <th>3</th>\n",
       "      <td>31</td>\n",
       "      <td>2014</td>\n",
       "      <td>4</td>\n",
       "      <td>1</td>\n",
       "    </tr>\n",
       "    <tr>\n",
       "      <th>4</th>\n",
       "      <td>31</td>\n",
       "      <td>2014</td>\n",
       "      <td>5</td>\n",
       "      <td>1</td>\n",
       "    </tr>\n",
       "  </tbody>\n",
       "</table>\n",
       "</div>"
      ],
      "text/plain": [
       "  AnswerText  SurveyID  UserID  QuestionID\n",
       "0         37      2014       1           1\n",
       "1         44      2014       2           1\n",
       "2         32      2014       3           1\n",
       "3         31      2014       4           1\n",
       "4         31      2014       5           1"
      ]
     },
     "execution_count": 816,
     "metadata": {},
     "output_type": "execute_result"
    }
   ],
   "source": [
    "query3 = \"\"\"\n",
    "SELECT *\n",
    "FROM Answer;\n",
    "\"\"\"\n",
    "pd.read_sql_query(query3, con).head(5)"
   ]
  },
  {
   "cell_type": "markdown",
   "metadata": {},
   "source": [
    "All tables joined"
   ]
  },
  {
   "cell_type": "code",
   "execution_count": 817,
   "metadata": {},
   "outputs": [
    {
     "data": {
      "text/html": [
       "<div>\n",
       "<style scoped>\n",
       "    .dataframe tbody tr th:only-of-type {\n",
       "        vertical-align: middle;\n",
       "    }\n",
       "\n",
       "    .dataframe tbody tr th {\n",
       "        vertical-align: top;\n",
       "    }\n",
       "\n",
       "    .dataframe thead th {\n",
       "        text-align: right;\n",
       "    }\n",
       "</style>\n",
       "<table border=\"1\" class=\"dataframe\">\n",
       "  <thead>\n",
       "    <tr style=\"text-align: right;\">\n",
       "      <th></th>\n",
       "      <th>AnswerText</th>\n",
       "      <th>SurveyID</th>\n",
       "      <th>UserID</th>\n",
       "      <th>QuestionID</th>\n",
       "      <th>QuestionText</th>\n",
       "      <th>Description</th>\n",
       "    </tr>\n",
       "  </thead>\n",
       "  <tbody>\n",
       "    <tr>\n",
       "      <th>0</th>\n",
       "      <td>37</td>\n",
       "      <td>2014</td>\n",
       "      <td>1</td>\n",
       "      <td>1</td>\n",
       "      <td>What is your age?</td>\n",
       "      <td>mental health survey for 2014</td>\n",
       "    </tr>\n",
       "    <tr>\n",
       "      <th>1</th>\n",
       "      <td>44</td>\n",
       "      <td>2014</td>\n",
       "      <td>2</td>\n",
       "      <td>1</td>\n",
       "      <td>What is your age?</td>\n",
       "      <td>mental health survey for 2014</td>\n",
       "    </tr>\n",
       "    <tr>\n",
       "      <th>2</th>\n",
       "      <td>32</td>\n",
       "      <td>2014</td>\n",
       "      <td>3</td>\n",
       "      <td>1</td>\n",
       "      <td>What is your age?</td>\n",
       "      <td>mental health survey for 2014</td>\n",
       "    </tr>\n",
       "    <tr>\n",
       "      <th>3</th>\n",
       "      <td>31</td>\n",
       "      <td>2014</td>\n",
       "      <td>4</td>\n",
       "      <td>1</td>\n",
       "      <td>What is your age?</td>\n",
       "      <td>mental health survey for 2014</td>\n",
       "    </tr>\n",
       "    <tr>\n",
       "      <th>4</th>\n",
       "      <td>31</td>\n",
       "      <td>2014</td>\n",
       "      <td>5</td>\n",
       "      <td>1</td>\n",
       "      <td>What is your age?</td>\n",
       "      <td>mental health survey for 2014</td>\n",
       "    </tr>\n",
       "  </tbody>\n",
       "</table>\n",
       "</div>"
      ],
      "text/plain": [
       "  AnswerText  SurveyID  UserID  QuestionID       QuestionText  \\\n",
       "0         37      2014       1           1  What is your age?   \n",
       "1         44      2014       2           1  What is your age?   \n",
       "2         32      2014       3           1  What is your age?   \n",
       "3         31      2014       4           1  What is your age?   \n",
       "4         31      2014       5           1  What is your age?   \n",
       "\n",
       "                     Description  \n",
       "0  mental health survey for 2014  \n",
       "1  mental health survey for 2014  \n",
       "2  mental health survey for 2014  \n",
       "3  mental health survey for 2014  \n",
       "4  mental health survey for 2014  "
      ]
     },
     "execution_count": 817,
     "metadata": {},
     "output_type": "execute_result"
    }
   ],
   "source": [
    "query4 = \"\"\"\n",
    "SELECT Answer.AnswerText, Answer.SurveyID, Answer.UserID,\n",
    "        Answer.QuestionID, Question.questiontext QuestionText,\n",
    "        Survey.Description\n",
    "FROM Answer\n",
    "JOIN Question\n",
    "ON Answer.QuestionID = Question.QuestionID\n",
    "JOIN Survey\n",
    "ON Answer.SurveyID = Survey.SurveyID\n",
    "\"\"\"\n",
    "pd.read_sql_query(query4, con).head(5)"
   ]
  },
  {
   "cell_type": "markdown",
   "metadata": {},
   "source": [
    "## Data cleaning"
   ]
  },
  {
   "cell_type": "code",
   "execution_count": 819,
   "metadata": {},
   "outputs": [
    {
     "data": {
      "text/html": [
       "<div>\n",
       "<style scoped>\n",
       "    .dataframe tbody tr th:only-of-type {\n",
       "        vertical-align: middle;\n",
       "    }\n",
       "\n",
       "    .dataframe tbody tr th {\n",
       "        vertical-align: top;\n",
       "    }\n",
       "\n",
       "    .dataframe thead th {\n",
       "        text-align: right;\n",
       "    }\n",
       "</style>\n",
       "<table border=\"1\" class=\"dataframe\">\n",
       "  <thead>\n",
       "    <tr style=\"text-align: right;\">\n",
       "      <th></th>\n",
       "      <th>answertext</th>\n",
       "      <th>surveyid</th>\n",
       "      <th>userid</th>\n",
       "      <th>questionid</th>\n",
       "      <th>questiontext</th>\n",
       "      <th>description</th>\n",
       "    </tr>\n",
       "  </thead>\n",
       "  <tbody>\n",
       "    <tr>\n",
       "      <th>0</th>\n",
       "      <td>37</td>\n",
       "      <td>2014</td>\n",
       "      <td>1</td>\n",
       "      <td>1</td>\n",
       "      <td>What is your age?</td>\n",
       "      <td>mental health survey for 2014</td>\n",
       "    </tr>\n",
       "    <tr>\n",
       "      <th>1</th>\n",
       "      <td>44</td>\n",
       "      <td>2014</td>\n",
       "      <td>2</td>\n",
       "      <td>1</td>\n",
       "      <td>What is your age?</td>\n",
       "      <td>mental health survey for 2014</td>\n",
       "    </tr>\n",
       "    <tr>\n",
       "      <th>2</th>\n",
       "      <td>32</td>\n",
       "      <td>2014</td>\n",
       "      <td>3</td>\n",
       "      <td>1</td>\n",
       "      <td>What is your age?</td>\n",
       "      <td>mental health survey for 2014</td>\n",
       "    </tr>\n",
       "    <tr>\n",
       "      <th>3</th>\n",
       "      <td>31</td>\n",
       "      <td>2014</td>\n",
       "      <td>4</td>\n",
       "      <td>1</td>\n",
       "      <td>What is your age?</td>\n",
       "      <td>mental health survey for 2014</td>\n",
       "    </tr>\n",
       "    <tr>\n",
       "      <th>4</th>\n",
       "      <td>31</td>\n",
       "      <td>2014</td>\n",
       "      <td>5</td>\n",
       "      <td>1</td>\n",
       "      <td>What is your age?</td>\n",
       "      <td>mental health survey for 2014</td>\n",
       "    </tr>\n",
       "  </tbody>\n",
       "</table>\n",
       "</div>"
      ],
      "text/plain": [
       "  answertext  surveyid  userid  questionid       questiontext  \\\n",
       "0         37      2014       1           1  What is your age?   \n",
       "1         44      2014       2           1  What is your age?   \n",
       "2         32      2014       3           1  What is your age?   \n",
       "3         31      2014       4           1  What is your age?   \n",
       "4         31      2014       5           1  What is your age?   \n",
       "\n",
       "                     description  \n",
       "0  mental health survey for 2014  \n",
       "1  mental health survey for 2014  \n",
       "2  mental health survey for 2014  \n",
       "3  mental health survey for 2014  \n",
       "4  mental health survey for 2014  "
      ]
     },
     "execution_count": 819,
     "metadata": {},
     "output_type": "execute_result"
    }
   ],
   "source": [
    "joined_df = pd.read_sql_query(query4, con)\n",
    "joined_df = cleaner(joined_df, info=False)\n",
    "joined_df.head(5)"
   ]
  },
  {
   "cell_type": "markdown",
   "metadata": {},
   "source": [
    "Check for the unique amount of numbers in questionid column."
   ]
  },
  {
   "cell_type": "code",
   "execution_count": 820,
   "metadata": {},
   "outputs": [],
   "source": [
    "qid = len(joined_df[\"questionid\"].unique())\n",
    "uid = len(joined_df[\"userid\"].unique())\n",
    "sid = len(joined_df[\"surveyid\"].unique())"
   ]
  },
  {
   "cell_type": "markdown",
   "metadata": {},
   "source": [
    "After the given result 105, we must to check, which numbers  \n",
    "of questions are excluded or deleted from table."
   ]
  },
  {
   "cell_type": "code",
   "execution_count": 821,
   "metadata": {},
   "outputs": [
    {
     "name": "stdout",
     "output_type": "stream",
     "text": [
      "Excluded numbers: [35, 36, 37, 38, 39, 40, 41, 42, 43, 44, 45, 46, 47] \n",
      "There are 13 excluded numbers\n"
     ]
    }
   ],
   "source": [
    "expected_numbers = list(range(1, 118))\n",
    "numbers = sorted(joined_df[\"questionid\"].unique())\n",
    "excluded_numbers = set(expected_numbers) - set(numbers)\n",
    "print(\n",
    "    f\"Excluded numbers: {sorted(excluded_numbers)}\",\n",
    "    f\"\\nThere are {len(excluded_numbers)} excluded numbers\",\n",
    ")"
   ]
  },
  {
   "cell_type": "markdown",
   "metadata": {},
   "source": [
    "With the simple calculation we find, that there are  \n",
    "13 excluded numbers of questionid column in a joined table."
   ]
  },
  {
   "cell_type": "markdown",
   "metadata": {},
   "source": [
    "## EDA (Exploratory Data Analysis)"
   ]
  },
  {
   "cell_type": "markdown",
   "metadata": {},
   "source": [
    "### Participants age analysis"
   ]
  },
  {
   "cell_type": "markdown",
   "metadata": {},
   "source": [
    "Before analysing age, check of participants number  \n",
    "has been performed"
   ]
  },
  {
   "cell_type": "code",
   "execution_count": null,
   "metadata": {},
   "outputs": [],
   "source": [
    "query = \"\"\"\n",
    "SELECT SurveyID Years, COUNT(DISTINCT(UserID)) Employees_No\n",
    "FROM Answer\n",
    "GROUP BY Years\n",
    "ORDER BY Years;\n",
    "\"\"\"\n",
    "employees = pd.read_sql_query(query, con)\n",
    "plt.figure(figsize=(8, 6))\n",
    "\n",
    "splot = sns.barplot(\n",
    "    data=employees,\n",
    "    x=\"Years\",\n",
    "    y=\"Employees_No\",\n",
    "    label=\"Number of employees\",\n",
    "    color=\"#74c476\",\n",
    "    width=0.8,\n",
    ")\n",
    "\n",
    "for container in splot.containers:\n",
    "    splot.bar_label(container)\n",
    "splot.set_yticks([])\n",
    "splot.set_ylabel(None)\n",
    "splot.set_frame_on(False)\n",
    "splot.set_title(\n",
    "    \"Participation of employees survey over the years\",\n",
    "    size=14,\n",
    "    fontweight=\"bold\",\n",
    "    ha=\"center\",\n",
    ")\n",
    "\n",
    "plt.show()"
   ]
  },
  {
   "cell_type": "markdown",
   "metadata": {},
   "source": [
    "It can be seen, that over the years, participation  \n",
    "in surveys of employees tend to decreased starting with 2016."
   ]
  },
  {
   "cell_type": "markdown",
   "metadata": {},
   "source": [
    "Table with age, gender and years has been created  \n",
    "where gender answers had to be fixed due to  \n",
    "letter case sensitivity or unsatisfactory answer."
   ]
  },
  {
   "cell_type": "code",
   "execution_count": null,
   "metadata": {},
   "outputs": [],
   "source": [
    "query = \"\"\"\n",
    "SELECT UserID, SurveyID Years,\n",
    "MAX(CASE WHEN QuestionID = 1 THEN AnswerText END) AS Age,\n",
    "MAX(CASE WHEN QuestionID = 2 THEN AnswerText END) AS Gender\n",
    "FROM Answer\n",
    "WHERE QuestionID IN (1, 2)\n",
    "GROUP BY UserID\n",
    "\"\"\"\n",
    "genders_age = pd.read_sql_query(query, con)\n",
    "\n",
    "genders_age[\"Gender\"] = genders_age[\"Gender\"].str.lower()\n",
    "genders_age[\"Gender\"] = genders_age[\"Gender\"].apply(lambda x: \"other\" if x not in (\"female\", \"male\") else x)\n",
    "genders_age = genders_age[genders_age[\"Gender\"] != \"other\"]\n",
    "genders_age[\"Age\"] = genders_age[\"Age\"].astype(int)"
   ]
  },
  {
   "cell_type": "markdown",
   "metadata": {},
   "source": [
    "To show a difference between genders over the years, a barplot  \n",
    "was created."
   ]
  },
  {
   "cell_type": "code",
   "execution_count": null,
   "metadata": {},
   "outputs": [],
   "source": [
    "gender = genders_age.pivot_table(index=\"Years\", columns=\"Gender\", aggfunc=\"size\")\n",
    "\n",
    "plt.figure(figsize=(8, 6))\n",
    "splot = sns.countplot(\n",
    "    data=genders_age,\n",
    "    x='Years',\n",
    "    hue=\"Gender\",\n",
    "    width=0.8\n",
    ")\n",
    "\n",
    "for container in splot.containers:\n",
    "    splot.bar_label(container)\n",
    "splot.set_yticks([])\n",
    "splot.set_ylabel(None)\n",
    "splot.set_frame_on(False)\n",
    "splot.set_title(\n",
    "    \"Gender imbalance in Tech industry\",\n",
    "    size=14,\n",
    "    fontweight=\"bold\",\n",
    "    ha=\"center\"\n",
    ")\n",
    "\n",
    "plt.show()"
   ]
  },
  {
   "cell_type": "markdown",
   "metadata": {},
   "source": [
    "From the barplot a clear male trend in Tech industry  \n",
    "could be seen. In each year at least half more males works in this area.  \n",
    "However, huge split between male and female counts gets shorter starting  \n",
    "with year 2017."
   ]
  },
  {
   "cell_type": "markdown",
   "metadata": {},
   "source": [
    "In table, anomalies for age values was checked and found  \n",
    "some 0s, negative numbers, etc. All anomalies were filtered out  \n",
    "and 18-100 age was left.  \n",
    "Age was grouped to 7 groups: 10s, 20s, 30s... etc."
   ]
  },
  {
   "cell_type": "code",
   "execution_count": null,
   "metadata": {},
   "outputs": [],
   "source": [
    "age_anomalies = genders_age[(genders_age[\"Age\"] > 80) | (genders_age[\"Age\"] < 18)]\n",
    "age_filtered = genders_age.loc[(genders_age[\"Age\"] > 18) & (genders_age[\"Age\"] < 100)].copy()\n",
    "# age_filtered\n",
    "age_filtered.loc[:, \"Age_group\"] = 0\n",
    "def agegroup(age):\n",
    "    if 18 <= age < 20:\n",
    "        return \"10s\"\n",
    "    elif 20 <= age < 30:\n",
    "        return \"20s\"\n",
    "    elif 30 <= age < 40:\n",
    "        return \"30s\"\n",
    "    elif 40 <= age < 50:\n",
    "        return \"40s\"\n",
    "    elif 50 <= age < 60:\n",
    "        return \"50s\"\n",
    "    elif 60 <= age < 70:\n",
    "        return \"60s\"\n",
    "    elif 70 <= age < 80:\n",
    "        return \"70s\"\n",
    "    else:\n",
    "        return \"Unknown\"\n",
    "\n",
    "age_filtered.loc[:, \"Age_group\"] = age_filtered[\"Age\"].apply(agegroup)\n",
    "age_filtered = age_filtered.sort_values(by=\"Age_group\")\n",
    "print(age_filtered)\n",
    "print(f\"Overall mean age: {age_filtered['Age'].mean().astype(int)}\")"
   ]
  },
  {
   "cell_type": "markdown",
   "metadata": {},
   "source": [
    "To check which age groups were most and least active in  \n",
    "survey, a line plot has been created."
   ]
  },
  {
   "cell_type": "code",
   "execution_count": null,
   "metadata": {},
   "outputs": [],
   "source": [
    "grouped_age = age_filtered.groupby([\"Years\", \"Age_group\"]).size().reset_index(name=\"Count\").copy()\n",
    "\n",
    "sns.set_style(\"darkgrid\")\n",
    "plt.figure(figsize=(8, 5))\n",
    "\n",
    "splot = sns.lineplot(\n",
    "    data=grouped_age,\n",
    "    x=\"Years\",\n",
    "    y=\"Count\",\n",
    "    hue=\"Age_group\"\n",
    ")\n",
    "splot.set_xlabel(\"Years\", fontweight=\"bold\")\n",
    "splot.set_ylabel(\"Count of participans\", fontweight=\"bold\")\n",
    "splot.set_title(\n",
    "    \"Survey participans over the years by age group\", \n",
    "    size=14, fontweight=\"bold\", \n",
    "    ha=\"center\"\n",
    ")\n",
    "plt.tight_layout()"
   ]
  },
  {
   "cell_type": "markdown",
   "metadata": {},
   "source": [
    "From this plot we can see, that over all years 30s group dominated  \n",
    "following with 20s and 40s. It gives us a result that young to mid  \n",
    "aged people tend to participate more in surveys but overall tendency  \n",
    "shows lower interest each year."
   ]
  },
  {
   "cell_type": "markdown",
   "metadata": {},
   "source": [
    "A query was made with calculations to look a number of  \n",
    "countries that participated in survey."
   ]
  },
  {
   "cell_type": "code",
   "execution_count": null,
   "metadata": {},
   "outputs": [],
   "source": [
    "query = \"\"\"\n",
    "SELECT UserID, SurveyID Years, AnswerText Country\n",
    "FROM Answer\n",
    "WHERE QuestionID = 3\n",
    "\"\"\"\n",
    "countries = pd.read_sql_query(query, con)\n",
    "countries[\"Country\"] = countries[\"Country\"].apply(lambda x: \"United States\" if x == \"United States of America\" else x)\n",
    "print(f\"Countries count: {len(countries['Country'].unique()) - 1}\")\n",
    "top5_countries = list(countries[\"Country\"].value_counts().iloc[:5].index)\n",
    "top5_df = countries[countries[\"Country\"].isin(top5_countries)]\n",
    "top5_df[\"Country\"].value_counts()"
   ]
  },
  {
   "cell_type": "markdown",
   "metadata": {},
   "source": [
    "Survey was placed on 79 countries.  \n",
    "Top 5 countries were extracted (US, Canada, UK, Netherlands, Germany)  \n",
    "for further investigation."
   ]
  },
  {
   "cell_type": "markdown",
   "metadata": {},
   "source": [
    "To look how participation of 5 countries changed over the  \n",
    "years a countplot was made."
   ]
  },
  {
   "cell_type": "code",
   "execution_count": null,
   "metadata": {},
   "outputs": [],
   "source": [
    "plt.figure(figsize=(20, 6))\n",
    "splot = sns.countplot(\n",
    "    data=top5_df,\n",
    "    x=\"Years\",\n",
    "    hue=\"Country\",\n",
    "    width=0.8\n",
    ")\n",
    "for container in splot.containers:\n",
    "    splot.bar_label(container)\n",
    "splot.set_yticks([])\n",
    "splot.set_ylabel(None)\n",
    "splot.set_frame_on(False)\n",
    "splot.set_title(\n",
    "    \"Top 5 most surveys answered countries by years\",\n",
    "    size=14,\n",
    "    fontweight=\"bold\",\n",
    "    ha=\"center\"\n",
    ")\n",
    "plt.tight_layout()\n",
    "#pasitikrinti šalių amžiaus vidurkį ir pasižiūrėti ar nekoreliuoja su surveys"
   ]
  },
  {
   "cell_type": "markdown",
   "metadata": {},
   "source": [
    "From this plot we can see, that US dominated over all the years.  \n",
    "It could be due to various reasons, but further investigation  \n",
    "is needed to explain the higher survey rate."
   ]
  },
  {
   "cell_type": "markdown",
   "metadata": {},
   "source": [
    "To answer the question of what percentage of people  \n",
    "sought treatment for mental health issues over the years  \n",
    "a special dataframe was made."
   ]
  },
  {
   "cell_type": "code",
   "execution_count": null,
   "metadata": {},
   "outputs": [],
   "source": [
    "query = \"\"\"\n",
    "SELECT UserID, SurveyID Years, AnswerText Treatment\n",
    "FROM Answer\n",
    "WHERE QuestionID = 7\n",
    "\"\"\"\n",
    "treatment = pd.read_sql_query(query, con)\n",
    "treatment_grouped = treatment.pivot_table(index=\"Years\", columns=\"Treatment\", aggfunc=\"size\")\n",
    "treatment_grouped.rename(columns={\"0\":\"No\", \"1\":\"Yes\"}, inplace=True)\n",
    "treatment_grouped[\"Both\"] = treatment_grouped[\"No\"] + treatment_grouped[\"Yes\"]\n",
    "treatment_grouped[\"Seek_perc\"] = round((treatment_grouped[\"Yes\"]/(treatment_grouped[\"Both\"])) * 100, 2)"
   ]
  },
  {
   "cell_type": "markdown",
   "metadata": {},
   "source": [
    "To see view more clear, data was plotted."
   ]
  },
  {
   "cell_type": "code",
   "execution_count": null,
   "metadata": {},
   "outputs": [],
   "source": [
    "fig, ax1 = plt.subplots(figsize=(8, 6))\n",
    "sns.lineplot(\n",
    "    data=treatment_grouped,\n",
    "    x=\"Years\",\n",
    "    y=\"Seek_perc\",\n",
    "    marker=\"o\",\n",
    "    color=\"blue\",\n",
    "    label=\"Seeking treatment\",\n",
    "    ax=ax1\n",
    ")\n",
    "ax2 = ax1.twinx()\n",
    "sns.lineplot(\n",
    "    data=treatment_grouped,\n",
    "    x=\"Years\",\n",
    "    y=\"Both\",\n",
    "    marker=\"o\",\n",
    "    color=\"red\",\n",
    "    label=\"Number of participans\",\n",
    "    ax=ax2\n",
    ")\n",
    "ax1.set_ylabel(\"Seeking treatment, %\")\n",
    "ax2.set_ylabel(\"Participated, No.\")\n",
    "plt.title(\n",
    "    \"Percent of people seeking treatment vs overall participans\",\n",
    "    size=14,\n",
    "    fontweight=\"bold\",\n",
    "    ha=\"center\"\n",
    ")\n",
    "\n",
    "plt.show()"
   ]
  },
  {
   "cell_type": "markdown",
   "metadata": {},
   "source": [
    "Blue line indicates the percentage of people that are seeking  \n",
    "treatment for mental issues, while red line shows overall participans  \n",
    "number and everything is showed with years included.  \n",
    "We can observe that as the years go, people tend to seek treatment more  \n",
    "despite survey taking participans decreasing."
   ]
  },
  {
   "cell_type": "code",
   "execution_count": null,
   "metadata": {},
   "outputs": [],
   "source": [
    "age_treatment = pd.merge(treatment, age_filtered, on=\"UserID\", how=\"inner\")\n",
    "age_treatment.drop(columns=\"Years_y\", axis=1, inplace=True)\n",
    "age_treatment.rename(columns={\"Years_x\":\"Years\"}, inplace=True)\n",
    "# age_treatment = age_treatment[age_treatment[\"Treatment\"] == \"1\"].copy()\n",
    "age_treatment[\"Age_no\"] = age_treatment[\"Age_group\"].map(\n",
    "    {\"10s\":10, \"20s\":20, \"30s\": 30, \"40s\":40, \"50s\":50, \"60s\":60, \"70s\":70})\n",
    "a = age_treatment.groupby(\"Age_no\")[[\"Treatment\", \"Gender\"]].value_counts().unstack(fill_value=0)\n",
    "a[\"summed\"] = a[\"female\"] + a[\"male\"]\n",
    "a.groupby(\"Age_no\")[[\"summed\", \"female\", \"male\"]].sum() #unclear for a moment"
   ]
  },
  {
   "cell_type": "markdown",
   "metadata": {},
   "source": [
    "I wanted to look for what percentage of people seek for  \n",
    "a health issues treatment in each age group. For that  \n",
    "a pivot table and calculations were made."
   ]
  },
  {
   "cell_type": "code",
   "execution_count": null,
   "metadata": {},
   "outputs": [],
   "source": [
    "age_seek = age_treatment.pivot_table(index=\"Age_group\", columns=\"Treatment\", aggfunc=\"size\")\n",
    "age_seek.rename(columns={\"0\":\"No\", \"1\":\"Yes\"}, inplace=True)\n",
    "age_seek.fillna(0, inplace=True)\n",
    "age_seek[\"Both\"] = age_seek[\"No\"] + age_seek[\"Yes\"]\n",
    "age_seek[\"Seek_perc\"] = round(age_seek[\"Yes\"] / age_seek[\"Both\"] * 100, 2)\n",
    "age_seek"
   ]
  },
  {
   "cell_type": "code",
   "execution_count": null,
   "metadata": {},
   "outputs": [],
   "source": [
    "plt.figure(figsize=(8, 6))\n",
    "\n",
    "splot = sns.barplot(\n",
    "    data=age_seek, \n",
    "    x=\"Age_group\", \n",
    "    y=\"Seek_perc\", \n",
    "    label=\"Treatment seek percentage\",\n",
    "    color=\"#74c476\",\n",
    "    width=0.8\n",
    "    )\n",
    "for container in splot.containers:\n",
    "    splot.bar_label(container)\n",
    "splot.set_yticks([])\n",
    "splot.set_ylabel(None)\n",
    "splot.set_frame_on(False)\n",
    "\n",
    "bplot = sns.lineplot(\n",
    "    data=age_seek, \n",
    "    x=\"Age_group\", \n",
    "    y=\"Both\",\n",
    "    ax=splot.twinx(),\n",
    "    color=\"orange\",\n",
    "    marker=\"o\",\n",
    "    label=\"Overall participants\"\n",
    ")\n",
    "bplot.set_ylabel(\"Overall participants\")\n",
    "bplot.grid(False)\n",
    "splot.set_title(\n",
    "    \"Percentage of people who sought health issues treatment by age group\",\n",
    "    size=14,\n",
    "    fontweight=\"bold\",\n",
    "    ha=\"center\"\n",
    "    )\n",
    "\n",
    "plt.show()"
   ]
  },
  {
   "cell_type": "markdown",
   "metadata": {},
   "source": [
    "It can be seen, that with older group follows higher treatment seek  \n",
    "for menthal health issues. This could be explained younger age people usualy are more active and busy with many works, projects and doesn't spent that much time for therapists. On the other side, older people tend to take more time for mental health issues treatment.  \n",
    "The bar jumps higher from 60s age group."
   ]
  },
  {
   "cell_type": "code",
   "execution_count": null,
   "metadata": {},
   "outputs": [],
   "source": [
    "seek_gender = age_treatment.pivot_table(index=\"Gender\", columns=[\"Treatment\"], aggfunc=\"size\")\n",
    "seek_gender.rename(columns={\"0\":\"No\", \"1\":\"Yes\"}, inplace=True)\n",
    "seek_gender[\"Both\"] = seek_gender[\"No\"] + seek_gender[\"Yes\"]\n",
    "seek_gender[\"Seek_perc\"] = round(seek_gender[\"Yes\"] / seek_gender[\"Both\"] * 100, 2)\n",
    "seek_gender.reset_index(inplace=True)\n",
    "seek_gender"
   ]
  },
  {
   "cell_type": "markdown",
   "metadata": {},
   "source": [
    "Because of gender unequal number of survey we can see  \n",
    "almost triple number of men (3027) participated in comparison to woman(1023).  \n",
    "To dig deeper in answer above, overall percentage of people by gender which sought health  \n",
    "issues treatment a barplot was used."
   ]
  },
  {
   "cell_type": "code",
   "execution_count": null,
   "metadata": {},
   "outputs": [],
   "source": [
    "plt.figure(figsize=(6, 4))\n",
    "splot = sns.barplot(\n",
    "    data=seek_gender,\n",
    "    x=\"Gender\",\n",
    "    y=\"Seek_perc\",\n",
    "    label=\"Percentage\",\n",
    "    width=0.8\n",
    ")\n",
    "for container in splot.containers:\n",
    "    splot.bar_label(container)\n",
    "splot.set_yticks([])\n",
    "splot.set_ylabel(None)\n",
    "splot.set_frame_on(False)\n",
    "plt.title(\n",
    "    \"Percentage of female/male that sought treatment\",\n",
    "    size=14,\n",
    "    fontweight=\"bold\",\n",
    "    ha=\"center\"\n",
    ")\n",
    "plt.tight_layout()\n",
    "plt.show()"
   ]
  },
  {
   "cell_type": "markdown",
   "metadata": {},
   "source": [
    "We can see, that despite the higher number of men participated  \n",
    "in survey, a higher percentage of female participates  \n",
    "answered that they sought treatment for mental health issues.  \n",
    "This could be explained that overall in principal woman are  \n",
    "more caring and concerned about their and others health.  \n",
    "Males should concern more."
   ]
  },
  {
   "cell_type": "markdown",
   "metadata": {},
   "source": [
    "I tried to look on how many participants in survey have  \n",
    "or haven't been diagnosed with mental issues."
   ]
  },
  {
   "cell_type": "code",
   "execution_count": null,
   "metadata": {},
   "outputs": [],
   "source": [
    "#33, 93\n",
    "query = \"\"\" \n",
    "SELECT UserID, AnswerText Mental_dis\n",
    "FROM Answer\n",
    "WHERE QuestionID = 33\n",
    "\"\"\"\n",
    "mental = pd.read_sql_query(query, con)\n",
    "print(f\"Participants no: {mental['Mental_dis'].value_counts().sum()}\")\n",
    "mental = mental[mental[\"Mental_dis\"].isin([\"Yes\", \"No\"])]\n",
    "print(f\"Participants with mental issues: {mental['Mental_dis'].value_counts().loc['Yes']}\")\n",
    "print(f\"Participants without mental issues: {mental['Mental_dis'].value_counts().loc['No']}\")"
   ]
  },
  {
   "cell_type": "markdown",
   "metadata": {},
   "source": [
    "Despite there were 2958 participants, some of them weren't sure about  \n",
    "the answer so only \"Yes\" and \"No\" was included in study. We have more  \n",
    "people with (1237) mental issues than without (969)."
   ]
  },
  {
   "cell_type": "markdown",
   "metadata": {},
   "source": [
    "Also, I looked at how many participants are self employed."
   ]
  },
  {
   "cell_type": "code",
   "execution_count": null,
   "metadata": {},
   "outputs": [],
   "source": [
    "query = \"\"\" \n",
    "SELECT UserID, AnswerText Self_employed\n",
    "FROM Answer\n",
    "WHERE QuestionID = 5\n",
    "\"\"\"\n",
    "selfemp = pd.read_sql_query(query, con)\n",
    "selfemp = selfemp[selfemp[\"Self_employed\"].isin([\"0\", \"1\"])]\n",
    "selfemp\n",
    "print(f\"Participants that work in companies: {selfemp['Self_employed'].value_counts().loc['0']}\")\n",
    "print(f\"Participants that are self employed: {selfemp['Self_employed'].value_counts().loc['1']}\")"
   ]
  },
  {
   "cell_type": "markdown",
   "metadata": {},
   "source": [
    "We can see that there are significantly more participants that  \n",
    "work in companies than are self employed."
   ]
  },
  {
   "cell_type": "markdown",
   "metadata": {},
   "source": [
    "Finally I would like to see if there is a correlation between  \n",
    "self employed participants and mental health issues. To do that,  \n",
    "I need to merge two tables: mental and selfemp and clean it properly.  \n",
    "0's represents \"No\" and 1's represents \"Yes\"."
   ]
  },
  {
   "cell_type": "code",
   "execution_count": null,
   "metadata": {},
   "outputs": [],
   "source": [
    "mental_remote = pd.merge(mental, selfemp, on=\"UserID\", how=\"inner\")\n",
    "mental_remote[\"Mental_dis\"] = mental_remote[\"Mental_dis\"].replace({\"No\":0, \"Yes\":1})\n",
    "mental_remote[\"Self_employed\"] = mental_remote[\"Self_employed\"].astype(int)\n",
    "# mental_remote\n",
    "ment_no = mental_remote[mental_remote[\"Mental_dis\"] == 0]\n",
    "ment_yes = mental_remote[mental_remote[\"Mental_dis\"] == 1]\n",
    "\n",
    "company_noissues = ment_no[\"Self_employed\"].value_counts()[0]\n",
    "self_noissues = ment_no[\"Self_employed\"].value_counts()[1]\n",
    "company_issues = ment_yes[\"Self_employed\"].value_counts()[0]\n",
    "self_issues = ment_yes[\"Self_employed\"].value_counts()[1]\n",
    "\n",
    "company_perc = round(company_issues / (company_noissues + company_issues) * 100, 2)\n",
    "selfemployed_perc = round(self_issues / (self_noissues + self_issues) * 100, 2)\n",
    "\n",
    "print(f\"Company employed with no mental issues: {company_noissues}\")\n",
    "print(f\"Self employed with no mental issues: {self_noissues}\")\n",
    "print(f\"Company employed with mental issues: {company_issues}\")\n",
    "print(f\"Self employed with mental issues: {self_issues}\")"
   ]
  },
  {
   "cell_type": "code",
   "execution_count": null,
   "metadata": {},
   "outputs": [],
   "source": [
    "percentage = {\"Company_employed\": company_perc, \"Self_employed\": selfemployed_perc}\n",
    "\n",
    "plt.figure(figsize=(6, 4))\n",
    "splot = sns.barplot(\n",
    "    data=percentage,\n",
    "    label=\"Percentage\",\n",
    "    width=0.8\n",
    ")\n",
    "for container in splot.containers:\n",
    "    splot.bar_label(container)\n",
    "splot.set_yticks([])\n",
    "splot.set_ylabel(None)\n",
    "splot.set_frame_on(False)\n",
    "plt.title(\n",
    "    \"Company vs self employed percentage of people with mental issues\",\n",
    "    size=14, \n",
    "    fontweight=\"bold\",\n",
    "    ha=\"center\"\n",
    ")\n",
    "plt.tight_layout()\n",
    "plt.show()"
   ]
  },
  {
   "cell_type": "markdown",
   "metadata": {},
   "source": [
    "It can be said that according to the results there is very similar  \n",
    "percentage of people who have mental health issues working at company  \n",
    "or self employed. It means that working at company does not increase more  \n",
    "mental health issues to working people."
   ]
  },
  {
   "cell_type": "markdown",
   "metadata": {},
   "source": [
    "## Summary"
   ]
  },
  {
   "cell_type": "markdown",
   "metadata": {},
   "source": [
    "There were three tables analyzed of wich questions for menthal survey of different  \n",
    "years were given.  \n",
    "- Overall there were 118 question id's with some of which questions repeated;  \n",
    "- To get a better we all three tables were joined;  \n",
    "- For this particular project data has been cleaned through all the notebook due to  \n",
    "new queries fetched over time;  \n",
    "- Over all the years (2014-2019) there were 4218 participants with the year 2016 the most 1433. After this year participants numbers droped significantly;\n",
    "- From the survey it can be seen gender imbalance in Tech industry. Over the years  \n",
    "situation did not change significantly - male dominated;  \n",
    "- All participants were grouped to different age groups (10s, 20s, 30s, etc.). Results  \n",
    "showed that most active survey group were 30s following with 20s and 40s;  \n",
    "- In surveys participated 79 countries with top 5: US, Canada, UK, Netherlands, Germany.  \n",
    "There were no changes over the years where US dominated and had more participants with  \n",
    "all 4 countries summed together;  \n",
    "- Over the years percent of people who sought treatment were increasing while number of  \n",
    "participants decreased. Treatment seeking could be related to increased mental work,  \n",
    "good companies practices, increased discussion about mental issues;  \n",
    "- Older people tend to seek mental health treatment more which could corelate with  \n",
    "more stable life/work balance, increased focus on self health care;  \n",
    "- Percentaly woman tend to seek mental health issues treatment more. This could be due  \n",
    "overall principal of females concernity about their and others health;  \n",
    "- Company employed people do not have higher mental health issues in comparison to  \n",
    "self employed."
   ]
  }
 ],
 "metadata": {
  "kernelspec": {
   "display_name": "Python 3",
   "language": "python",
   "name": "python3"
  },
  "language_info": {
   "codemirror_mode": {
    "name": "ipython",
    "version": 3
   },
   "file_extension": ".py",
   "mimetype": "text/x-python",
   "name": "python",
   "nbconvert_exporter": "python",
   "pygments_lexer": "ipython3",
   "version": "3.11.4"
  }
 },
 "nbformat": 4,
 "nbformat_minor": 2
}
